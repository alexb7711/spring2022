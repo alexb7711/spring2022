{
 "cells": [
  {
   "cell_type": "markdown",
   "metadata": {},
   "source": [
    "## Problem 0: Autopilot Implementation\n",
    "### Low level control\n",
    "Implement the `update(...)` functions in \n",
    "* `pd_control_with_rate.py`\n",
    "* `pi_control.py`\n",
    "* `tf_control.py` - Use the control discussed in class and not in the book\n",
    "\n",
    "Tips / Instructions:\n",
    "* Make sure that you saturate the return value to be limited based upon `self.limit`\n",
    "* Note that `self.integrator` is the integral of the error and `self.error_delay_1` is the error on the previous loop through. Use the trapazoidal rule.\n",
    "* An anti-windup piece of code is left in the PIControl to avoid integrator windup, causing the integrator to go down when the control is saturated.\n",
    "* `y_delay_1` is the value of `y` at the previous step\n",
    "* `u_delay_1` is the value of `u` at the previous step\n",
    "\n",
    "### Autopilot\n",
    "To implement the autopilot, calculate the gains in `control_parameters.py` and then in `autopilot.py` implement the following.\n",
    "* `__init__(...)`: \n",
    "  * Use values from `control_parameters.py` (imported as `AP`) to initialize controllers for the sequential control loops in Chapter 6.1.\n",
    "  * The controllers should be instances of `TFControl`, `PIControl`, and `PDControlWithRate`\n",
    "* `update(...)`: Calculate the autopilot commands for $\\delta_e$, $\\delta_a$, $\\delta_r$, and $\\delta_t$ using successive loop closure\n",
    "\n",
    "Tips / Instructions:\n",
    "* `__init__(...)`\n",
    "  * Limit the output of calculated roll from aileron to be between -45 an 45 degrees\n",
    "  * Limit the output of calculated course angle from roll to be between -30 and 30 degrees\n",
    "  * Limit the output of calculated pitch from elevevator to be between -45 and 45 degrees\n",
    "  * Limit the output of calculated altitude from pitch to be between -30 and 30 degrees\n",
    "  * Limit the output of the airspeed from throttle to be between -1 and 1\n",
    "* `update(...)`\n",
    "  * Saturate the commanded $\\phi^c$ value between -30 degrees and 30 degrees before using it in the control loop\n",
    "  * Saturate the commanded altitude to be within plus or minus Ap.altitude_zone of the current altitude\n",
    "  * Do not allow negative thrust\n",
    "\n",
    "Use of feedforward control:\n",
    "\n",
    "You'll notice that the `MsgAutopilot` has a member called `phi_feedforward`. This feedforward term should be used when calculating $\\phi^c$. The final equation in section 6.1.1.2 of the book has the equation\n",
    "$$\n",
    "\\phi^c(t) = k_{p_\\chi}\\bigl(\\chi^c(t) - \\chi(t)\\bigr) + k_{i_\\chi} \\int_{-\\infty}^t\\bigl(\\chi^c(\\tau) - \\chi(\\tau)\\bigr)d\\tau\n",
    "$$\n",
    "Implement it instead as\n",
    "$$\n",
    "\\phi^c(t) = \\phi_{ff} + k_{p_\\chi}\\bigl(\\chi^c(t) - \\chi(t)\\bigr) + k_{i_\\chi} \\int_{-\\infty}^t\\bigl(\\chi^c(\\tau) - \\chi(\\tau)\\bigr)d\\tau\n",
    "$$\n",
    "where $\\phi_{ff} = $ `cmd.phi_feedforward`"
   ]
  },
  {
   "cell_type": "code",
   "execution_count": null,
   "metadata": {},
   "outputs": [],
   "source": [
    "# Note that this cell can be run separately to initialize for other cell blocks\n",
    "import numpy as np\n",
    "from mav_sim.chap3.mav_dynamics import DynamicState\n",
    "from mav_sim.chap6.run_sim import run_sim\n",
    "from mav_sim.message_types.msg_sim_params import MsgSimParams\n",
    "from mav_sim.tools.signals import Signals\n",
    "from mav_sim.chap2.mav_viewer import MavViewer\n",
    "from mav_sim.chap3.data_viewer import DataViewer\n",
    "from mav_sim.tools.display_figures import display_data_view, display_mav_view\n",
    "import mav_sim.parameters.aerosonde_parameters as MAV\n",
    "\n",
    "# The viewers need to be initialized once due to restart issues with qtgraph\n",
    "if 'mav_view' not in globals():\n",
    "    print(\"Initializing mav_view\")\n",
    "    global mav_view\n",
    "    mav_view = MavViewer()  # initialize the mav viewer\n",
    "if 'data_view' not in globals():\n",
    "    print(\"Initializing data_view\")\n",
    "    global data_view\n",
    "    data_view = DataViewer()  # initialize view of data plots\n",
    "\n",
    "# Initialize state values\n",
    "sim_params = MsgSimParams(end_time=40., video_name=\"chap4.avi\") # Sim ending in 10 seconds\n",
    "state = DynamicState()\n",
    "\n",
    "# Define nominal commands\n",
    "Va_command_nom = Signals(dc_offset=MAV.Va0,\n",
    "                        amplitude=0.0,\n",
    "                        start_time=1000.0,\n",
    "                        frequency=0.01)\n",
    "altitude_command_nom = Signals(dc_offset=-MAV.down0,\n",
    "                        amplitude=0.0,\n",
    "                        start_time=1000.0,\n",
    "                        frequency=0.02)\n",
    "course_command_nom = Signals(dc_offset=MAV.psi0,\n",
    "                        amplitude=0.,\n",
    "                        start_time=1000.0,\n",
    "                        frequency=0.015)\n",
    "\n",
    "# Function for running simulation and displaying results\n",
    "def run_sim_and_display(Va_command: Signals = Va_command_nom, altitude_command: Signals = altitude_command_nom, \\\n",
    "        course_command: Signals = course_command_nom):\n",
    "    global mav_view\n",
    "    global data_view\n",
    "    data_view.reset(sim_params.start_time)\n",
    "    (mav_view, data_view) = run_sim(sim=sim_params, init_state=state, mav_view=mav_view, data_view=data_view, \\\n",
    "        Va_command=Va_command, altitude_command=altitude_command, course_command=course_command) \n",
    "    display_data_view(data_view)\n",
    "    display_mav_view(mav_view)\n"
   ]
  },
  {
   "cell_type": "code",
   "execution_count": null,
   "metadata": {},
   "outputs": [],
   "source": [
    "# Run a straight controlled trajectory\n",
    "run_sim_and_display()"
   ]
  },
  {
   "cell_type": "markdown",
   "metadata": {},
   "source": [
    "## Problem 1: Airspeed command - part a\n",
    "Command the aircraft airspeed to oscillate between 32 and 38 every ten seconds with a starting time of 10.0."
   ]
  },
  {
   "cell_type": "code",
   "execution_count": null,
   "metadata": {},
   "outputs": [],
   "source": [
    "# Create the signal\n",
    "Va_command = Signals(dc_offset=10.0,\n",
    "                        amplitude=5.0,\n",
    "                        start_time=10.0,\n",
    "                        frequency=0.05)\n",
    "\n",
    "# Run the simulation\n",
    "run_sim_and_display(Va_command=Va_command)"
   ]
  },
  {
   "cell_type": "markdown",
   "metadata": {},
   "source": [
    "## Problem 2: Airspeed command - part b\n",
    "Command the aircraft airspeed to oscillate between 20 and 26 every ten seconds with a starting time of 10.0.\n",
    "\n",
    "### Question: What difference do you notice in the results? Describe the reason behind the major difference.\n",
    "Answer: "
   ]
  },
  {
   "cell_type": "code",
   "execution_count": null,
   "metadata": {},
   "outputs": [],
   "source": [
    "# Code here:\n",
    "print('Need to implement')"
   ]
  },
  {
   "cell_type": "markdown",
   "metadata": {},
   "source": [
    "## Problem 3: Altitude\n",
    "Command the aircraft altitude to oscillate between 80 and 100 every 20 seconds starting at time 10.0."
   ]
  },
  {
   "cell_type": "code",
   "execution_count": null,
   "metadata": {},
   "outputs": [],
   "source": [
    "# Code here:\n",
    "print('Need to implement')"
   ]
  },
  {
   "cell_type": "markdown",
   "metadata": {},
   "source": [
    "## Problem 4: Course\n",
    "Command the aircraft course to move between 60 degrees and 80 degrees every 10 seconds starting at time 10.0."
   ]
  },
  {
   "cell_type": "code",
   "execution_count": null,
   "metadata": {},
   "outputs": [],
   "source": [
    "# Code here:\n",
    "print('Need to implement')"
   ]
  },
  {
   "cell_type": "markdown",
   "metadata": {},
   "source": [
    "## Simple code checking\n",
    "The following code does not need to change. It should just be used as a sanity check so that you know the code is implemented properly. The output should not have any lines reading `Failed test!`"
   ]
  },
  {
   "cell_type": "code",
   "execution_count": 1,
   "metadata": {},
   "outputs": [
    {
     "name": "stdout",
     "output_type": "stream",
     "text": [
      "Starting pd_control_with_rate test\n",
      "\n",
      "Calculated output:\n",
      "0.0\n",
      "Expected output:\n",
      "0.0\n",
      "Passed test\n",
      "Calculated output:\n",
      "-0.43974730752905633\n",
      "Expected output:\n",
      "-0.43974730752905633\n",
      "Passed test\n",
      "End of test\n",
      "\n",
      "Starting pi_control test\n",
      "\n",
      "Calculated output:\n",
      "0.0\n",
      "Expected output:\n",
      "0.0\n",
      "Passed test\n",
      "Calculated output:\n",
      "-0.5235987755982988\n",
      "Expected output:\n",
      "-0.5235987755982988\n",
      "Passed test\n",
      "End of test\n",
      "\n",
      "Starting tf_control test\n",
      "\n",
      "Calculated output:\n",
      "0.0\n",
      "Expected output:\n",
      "0.0\n",
      "Passed test\n",
      "Calculated output:\n",
      "0.15892403727930438\n",
      "Expected output:\n",
      "0.15892403727930438\n",
      "Passed test\n",
      "End of test\n",
      "\n",
      "Starting autopilot test\n",
      "\n",
      "Calculated MsgDelta:\n",
      "elevator= -0.0 aileron= 0.0 rudder= 0.0 throttle= 0.0\n",
      "Expected MsgDelta:\n",
      "elevator= 0 aileron= 0 rudder= 0 throttle= 0\n",
      "Passed test\n",
      "Calculated MsgState:\n",
      "north= 0 east= 0 altitude= 0.0 phi= 0.0 theta= 0.0 psi= 0 Va= 0.0 alpha= 0 beta= 0 p= 0 q= 0 r= 0 Vg= 0 gamma= 0 chi= 0.0 wn= 0 we= 0 bx= 0 by= 0 bz= 0\n",
      "Expected MsgState:\n",
      "north= 0 east= 0 altitude= 0 phi= 0 theta= 0 psi= 0 Va= 0 alpha= 0 beta= 0 p= 0 q= 0 r= 0 Vg= 0 gamma= 0 chi= 0 wn= 0 we= 0 bx= 0 by= 0 bz= 0\n",
      "Passed test\n",
      "Calculated MsgDelta:\n",
      "elevator= 0.7853981633974483 aileron= 0.11389145757219538 rudder= 0.33923671738588174 throttle= 0.0\n",
      "Expected MsgDelta:\n",
      "elevator= 0.7853981633974483 aileron= 0.11389145757219538 rudder= 0.01995510102269893 throttle= 0\n",
      "Failed test!\n",
      "Calculated MsgState:\n",
      "north= 0 east= 0 altitude= 12 phi= 0.5235987755982988 theta= -0.5235987755982988 psi= 0 Va= 4 alpha= 0 beta= 0 p= 0 q= 0 r= 0 Vg= 0 gamma= 0 chi= 2 wn= 0 we= 0 bx= 0 by= 0 bz= 0\n",
      "Expected MsgState:\n",
      "north= 0 east= 0 altitude= 12 phi= 0.5235987755982988 theta= -0.5235987755982988 psi= 0 Va= 4 alpha= 0 beta= 0 p= 0 q= 0 r= 0 Vg= 0 gamma= 0 chi= 2 wn= 0 we= 0 bx= 0 by= 0 bz= 0\n",
      "Passed test\n",
      "End of test\n",
      "\n"
     ]
    }
   ],
   "source": [
    "from mav_sim.unit_tests.ch6_feedback_control_test import run_all_tests\n",
    "run_all_tests()"
   ]
  },
  {
   "cell_type": "code",
   "execution_count": null,
   "metadata": {},
   "outputs": [],
   "source": []
  }
 ],
 "metadata": {
  "interpreter": {
   "hash": "ed425f2c20432ac4fa8be597b4b77b8d3b1ffe4dfa23b1c0ea7de82059b6e458"
  },
  "kernelspec": {
   "display_name": "Python 3 (ipykernel)",
   "language": "python",
   "name": "python3"
  },
  "language_info": {
   "codemirror_mode": {
    "name": "ipython",
    "version": 3
   },
   "file_extension": ".py",
   "mimetype": "text/x-python",
   "name": "python",
   "nbconvert_exporter": "python",
   "pygments_lexer": "ipython3",
   "version": "3.10.2"
  }
 },
 "nbformat": 4,
 "nbformat_minor": 2
}
