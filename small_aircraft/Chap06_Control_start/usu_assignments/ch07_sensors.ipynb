{
 "cells": [
  {
   "cell_type": "markdown",
   "metadata": {},
   "source": [
    "## Problem 1: Sensors implementation\n",
    "In `chap7/mav_dynamics.py` implement the following functions:\n",
    "* accelerometer\n",
    "* gyro\n",
    "* pressure\n",
    "* magnetometer\n",
    "* gps_error_trans_update\n",
    "* gps\n",
    "* calculate_sensor_readings\n",
    "\n",
    "Tip about noise variable"
   ]
  },
  {
   "cell_type": "code",
   "execution_count": null,
   "metadata": {},
   "outputs": [],
   "source": [
    "# Note that this cell can be run separately to initialize for other cell blocks\n",
    "import numpy as np\n",
    "from mav_sim.chap3.mav_dynamics import DynamicState\n",
    "from mav_sim.chap7.run_sim import run_sim\n",
    "from mav_sim.chap7.sensor_viewer import SensorViewer\n",
    "from mav_sim.message_types.msg_sim_params import MsgSimParams\n",
    "from mav_sim.tools.signals import Signals\n",
    "from mav_sim.chap2.mav_viewer import MavViewer\n",
    "from mav_sim.chap3.data_viewer import DataViewer\n",
    "from mav_sim.tools.display_figures import display_data_view, display_mav_view\n",
    "import mav_sim.parameters.aerosonde_parameters as MAV\n",
    "\n",
    "# The viewers need to be initialized once due to restart issues with qtgraph\n",
    "if 'mav_view' not in globals():\n",
    "    print(\"Initializing mav_view\")\n",
    "    global mav_view\n",
    "    mav_view = MavViewer()  # initialize the mav viewer\n",
    "if 'data_view' not in globals():\n",
    "    print(\"Initializing data_view\")\n",
    "    global data_view\n",
    "    data_view = DataViewer()  # initialize view of data plots\n",
    "if 'sensor_view' not in globals():\n",
    "    print(\"Initializing data_view\")\n",
    "    global sensor_view\n",
    "    sensor_view = SensorViewer()  # initialize view of data plots\n",
    "\n",
    "# Initialize state values\n",
    "sim_params = MsgSimParams(end_time=40., video_name=\"chap4.avi\") # Sim ending in 10 seconds\n",
    "state = DynamicState()\n",
    "\n",
    "# Define nominal commands\n",
    "Va_command_nom = Signals(dc_offset=25.0,\n",
    "                        amplitude=3.0,\n",
    "                        start_time=2.0,\n",
    "                        frequency=0.01)\n",
    "altitude_command_nom = Signals(dc_offset=100.0,\n",
    "                        amplitude=20.0,\n",
    "                        start_time=0.0,\n",
    "                        frequency=0.02)\n",
    "course_command_nom = Signals(dc_offset=np.radians(180),\n",
    "                        amplitude=np.radians(45),\n",
    "                        start_time=5.0,\n",
    "                        frequency=0.015)\n",
    "\n",
    "# Function for running simulation and displaying results\n",
    "def run_sim_and_display(Va_command: Signals = Va_command_nom, altitude_command: Signals = altitude_command_nom, \\\n",
    "        course_command: Signals = course_command_nom):\n",
    "    global mav_view\n",
    "    global data_view\n",
    "    global sensor_view\n",
    "    data_view.reset(sim_params.start_time)\n",
    "    (mav_view, data_view, sensor_view) = run_sim(sim=sim_params, init_state=state, mav_view=mav_view, data_view=data_view, sensor_view=sensor_view, \\\n",
    "        Va_command=Va_command, altitude_command=altitude_command, course_command=course_command) \n",
    "    display_data_view(sensor_view)\n",
    "    display_data_view(data_view)\n",
    "    display_mav_view(mav_view)\n"
   ]
  },
  {
   "cell_type": "code",
   "execution_count": null,
   "metadata": {},
   "outputs": [],
   "source": [
    "# Run a controlled trajectory\n",
    "run_sim_and_display()"
   ]
  },
  {
   "cell_type": "markdown",
   "metadata": {},
   "source": [
    "## Simple code checking\n",
    "The following code does not need to change. It should just be used as a sanity check so that you know the code is implemented properly. The output should not have any lines reading `Failed test!`"
   ]
  },
  {
   "cell_type": "code",
   "execution_count": null,
   "metadata": {},
   "outputs": [],
   "source": [
    "from mav_sim.unit_tests.ch7_sensors_test import run_all_tests\n",
    "run_all_tests()"
   ]
  }
 ],
 "metadata": {
  "interpreter": {
   "hash": "ed425f2c20432ac4fa8be597b4b77b8d3b1ffe4dfa23b1c0ea7de82059b6e458"
  },
  "kernelspec": {
   "display_name": "Python 3.10.2 ('mav_3_10': venv)",
   "language": "python",
   "name": "python3"
  },
  "language_info": {
   "codemirror_mode": {
    "name": "ipython",
    "version": 3
   },
   "file_extension": ".py",
   "mimetype": "text/x-python",
   "name": "python",
   "nbconvert_exporter": "python",
   "pygments_lexer": "ipython3",
   "version": "3.10.2"
  },
  "orig_nbformat": 4
 },
 "nbformat": 4,
 "nbformat_minor": 2
}
