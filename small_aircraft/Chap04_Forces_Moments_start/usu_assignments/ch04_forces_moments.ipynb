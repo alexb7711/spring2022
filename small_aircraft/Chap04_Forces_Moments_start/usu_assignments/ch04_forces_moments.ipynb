{
 "cells": [
  {
   "cell_type": "markdown",
   "metadata": {},
   "source": [
    "## Problem 0: Implementation of Forces and Moments\n",
    "Implement the `forces_moments`, `motor_thrust_torque`, and `update_velocity_data` functions in `chap4/mav_dynamics.py` as described in chapter 4. For the aerodynamic coefficients $C_L(\\alpha)$ and $C_D(\\alpha)$, use equations (4.9) and (4.11), respectively.\n",
    "\n",
    "Below are some useful code snippets and hints:\n",
    "* R = Quaternion2Rotation(self._state[IND.QUAT]) # computes the rotation from body to world frame\n",
    "* uvw = state[IND.VEL] # Extracts the u-v-w body axis velocities from the state vector\n",
    "* MAV contains the UAV parameters (i.e., MAV.mass gives the mass and MAV.gravity is the gravity constant)\n",
    "* In `forces_moments`, you will need to calculate the following:\n",
    "  * gravitaional forces\n",
    "  * Lift and Drag coefficients\n",
    "  * Lift and Drag Forces\n",
    "  * longitudinal forces and torques\n",
    "  * lateral forces and torques\n",
    "* In `motor_thrust_torque` you will do the following\n",
    "  * Use the quadratic formulate to solve for motor speed\n",
    "  * Use the resulting values to compute the angular speed of the propeller\n",
    "  * Compute and return the thruse and torque due to the propeller\n",
    "* In `update_velocity_data` you will do the following\n",
    "  * Convert the wind vector to the body frame\n",
    "  * Compute the airspeed\n",
    "  * Compute the angle of attack\n",
    "  * Compute the sideslip angle\n",
    "\n",
    "Running the simulator requires passing a function that takes in a time value and produces a command. We'll learn about trim later, but trim trajectories are trajectories that can be flown with constant inputs. In reality the trim inputs can only be used for a small amount of time without any feedback due to disturbances. Once implemented, the following code will produce a trajectory that flights straight and steady without any need for modification."
   ]
  },
  {
   "cell_type": "code",
   "execution_count": null,
   "metadata": {},
   "outputs": [],
   "source": [
    "# Note that this cell can be run separately to initialize for other cell blocks\n",
    "import numpy as np\n",
    "from mav_sim.chap3.mav_dynamics import DynamicState\n",
    "from mav_sim.chap4.run_sim import run_sim\n",
    "from mav_sim.message_types.msg_delta import MsgDelta\n",
    "from mav_sim.message_types.msg_sim_params import MsgSimParams\n",
    "from mav_sim.message_types.msg_gust_params import MsgGustParams\n",
    "from mav_sim.tools.display_figures import display_data_view, display_mav_view\n",
    "from mav_sim.chap2.mav_viewer import MavViewer\n",
    "from mav_sim.chap3.data_viewer import DataViewer\n",
    "\n",
    "# The viewers need to be initialized once due to restart issues with qtgraph\n",
    "if 'mav_view' not in globals():\n",
    "    print(\"Initializing mav_view\")\n",
    "    global mav_view\n",
    "    mav_view = MavViewer()  # initialize the mav viewer\n",
    "if 'data_view' not in globals():\n",
    "    print(\"Initializing data_view\")\n",
    "    global data_view\n",
    "    data_view = DataViewer()  # initialize view of data plots\n",
    "\n",
    "# Initialize state values\n",
    "sim_params = MsgSimParams(end_time=40., video_name=\"chap4.avi\") # Sim ending in 10 seconds\n",
    "state = DynamicState()\n",
    "\n",
    "# Functions used below\n",
    "def run_sim_and_display(delta_fnc, use_wind = False, gust_params = None):\n",
    "    global mav_view\n",
    "    global data_view\n",
    "    data_view.reset(sim_params.start_time)\n",
    "    (mav_view, data_view) = run_sim(sim_params, delta_fnc, state, mav_view, data_view, use_wind, gust_params)\n",
    "    display_data_view(data_view)\n",
    "    display_mav_view(mav_view)\n",
    "\n",
    "def trim(time: float)->MsgDelta:\n",
    "    \"\"\"Passes out the constant trim command\n",
    "    \"\"\"\n",
    "    # Set control surfaces\n",
    "    delta = MsgDelta()\n",
    "    delta.elevator = -0.1248\n",
    "    delta.aileron = 0.001836\n",
    "    delta.rudder = -0.0003026\n",
    "    delta.throttle = 0.6768\n",
    "    return delta"
   ]
  },
  {
   "cell_type": "code",
   "execution_count": null,
   "metadata": {},
   "outputs": [],
   "source": [
    "# Run a \"straight\" trim trajectory\n",
    "run_sim_and_display(trim)"
   ]
  },
  {
   "cell_type": "markdown",
   "metadata": {},
   "source": [
    "## Problem 1: Effect of the elevator control surface\n",
    "This problem varies the elevator value during flight of the aircraft. Design a function that will perturb the elevator control surface by 5 degrees in the negative direction after 5 seconds and 5 degrees in the positive direction after 15 seconds.\n",
    "\n",
    "### Question: Given the definitions of positive control surface deflection from chapter 4, what behavior do you expect for the altitude, Y-axis angular velocity, airspeed, and pitch angle?\n",
    "**Answer:** (Answer before simulation)\n",
    "\n",
    "Just changing the pitch angle will cause the aircraft to slow down but increase in altitude. As it decrases it will increase in velocity\n",
    "\n",
    "### Question: Was the behavior as expected? If not, what did you observe differently from what you thought you would? Why did this difference occur?\n",
    "**Answer:** (Up to individual)"
   ]
  },
  {
   "cell_type": "code",
   "execution_count": null,
   "metadata": {},
   "outputs": [],
   "source": [
    "def perturb_elevator(time: float) -> MsgDelta:\n",
    "    \"\"\" Perturb the elevator trim commands by\n",
    "            -5 degrees      5 < time <= 15\n",
    "            5  degrees      15 < time\n",
    "    \"\"\"\n",
    "    delta = trim(time)\n",
    "    if time > 15.:\n",
    "        delta.elevator += np.deg2rad(5) # Perturb up by 5 degrees (make sure you convert degrees to radians!!!)\n",
    "    elif time > 5:\n",
    "        delta.elevator += np.deg2rad(-5) # Perturb down by 5 degrees\n",
    "    return delta\n",
    "\n",
    "# Perturb the elevator\n",
    "run_sim_and_display(perturb_elevator)"
   ]
  },
  {
   "cell_type": "markdown",
   "metadata": {},
   "source": [
    "## Problem 2: Effect of the aileron control surface\n",
    "This problem varies the aileron value during flight of the aircraft.  Design a function that will perturb the aileron control surface by 0.2 degrees in the negative direction after 5 seconds and 0.2 degrees in the positive direction after 15 seconds.\n",
    "\n",
    "### Question: Given the definitions of positive control surface deflection from chapter 4, what behavior do you expect for X-axis angular velocity, roll angle, and heading?\n",
    "**Answer:** (Answer before simulation)\n",
    "\n",
    "Pivot the plain about the body. It will turn left and right\n",
    "\n",
    "Run the simulation and verify the expected behavior.\n",
    "\n",
    "### Question: Was the behavior as expected? If not, what did you observe differently from what you thought you would? Why did this difference occur?\n",
    "**Answer:** (Up to individual)"
   ]
  },
  {
   "cell_type": "code",
   "execution_count": null,
   "metadata": {},
   "outputs": [],
   "source": [
    "def perturb_aileron(time: float) -> MsgDelta:\n",
    "    \"\"\" Perturb the aileron trim commands by\n",
    "            -0.2 degrees      5 < time <= 15\n",
    "            0.2  degrees      15 < time\n",
    "    \"\"\"\n",
    "    # Calculate the trim trajectory\n",
    "    delta = trim(time)\n",
    "    \n",
    "    # Perturb the control\n",
    "    if time > 15.:\n",
    "        delta.aileron += np.deg2rad(-0.2) # Perturb up by 5 degrees (make sure you convert degrees to radians!!!)\n",
    "    elif time > 5:\n",
    "        delta.aileron += np.deg2rad(0.2) # Perturb down by 5 degrees\n",
    "    return delta\n",
    "    # Return the perturbed control\n",
    "    return delta\n",
    "\n",
    "# Perturb the elevator\n",
    "run_sim_and_display(perturb_aileron)"
   ]
  },
  {
   "cell_type": "markdown",
   "metadata": {},
   "source": [
    "## Problem 3: Effect of the rudder control surface\n",
    "This problem varies the rudder value during flight of the aircraft.  Design a function that will perturb the rudder control surface by 0.2 degrees in the negative direction after 5 seconds and 0.2 degrees in the positive direction after 15 seconds.\n",
    "\n",
    "### Question: Given the definitions of positive control surface deflection from chapter 4, what behavior do you expect for Z-axis angular velocity, heading angle, and roll angle?\n",
    "**Answer:** (Answer before simulation)\n",
    "It will spin the plain about the body z axis\n",
    "\n",
    "It will pivot the plain left and right\n",
    "\n",
    "Run the simulation and verify the expected behavior.\n",
    "\n",
    "### Question: Was the behavior as expected? If not, what did you observe differently from what you thought you would? Why did this difference occur?\n",
    "**Answer:** (Up to individual)"
   ]
  },
  {
   "cell_type": "code",
   "execution_count": null,
   "metadata": {},
   "outputs": [],
   "source": [
    "def perturb_rudder(time: float) -> MsgDelta:\n",
    "    \"\"\" Perturb the rudder trim commands by\n",
    "            -0.2 degrees      5 < time <= 15\n",
    "            0.2  degrees      5 < time\n",
    "    \"\"\"\n",
    "    # Calculate the trim trajectory\n",
    "    delta = trim(time)\n",
    "    \n",
    "    # Perturb the control\n",
    "    if time > 15.:\n",
    "        delta.rudder += np.deg2rad(-0.2) # Perturb up by 5 degrees (make sure you convert degrees to radians!!!)\n",
    "    elif time > 5:\n",
    "        delta.rudder += np.deg2rad(0.2) # Perturb down by 5 degrees\n",
    "    return delta\n",
    "\n",
    "    # Return the perturbed control\n",
    "    return delta\n",
    "\n",
    "# Perturb the elevator\n",
    "run_sim_and_display(perturb_rudder)"
   ]
  },
  {
   "cell_type": "markdown",
   "metadata": {},
   "source": [
    "## Problem 4: Effect of the throttle control input\n",
    "This problem varies the throttle value during flight of the aircraft.  Design a function that will perturb the throttle by 0.2 in the negative direction after 5 seconds and 0.2 in the positive direction after 15 seconds.\n",
    "\n",
    "### Question: Given the definitions of positive thrust from chapter 4, what behavior do you expect for airspeed,  altitude, and roll rates?\n",
    "**Answer:** (Answer before simulation)\n",
    "\n",
    "Run the simulation and verify the expected behavior.\n",
    "\n",
    "### Question: Was the behavior as expected? If not, what did you observe differently from what you thought you would? Why did this difference occur?\n",
    "**Answer:** (Up to individual)"
   ]
  },
  {
   "cell_type": "code",
   "execution_count": null,
   "metadata": {},
   "outputs": [],
   "source": [
    "def perturb_throttle(time: float) -> MsgDelta:\n",
    "    \"\"\" Perturb the throttle trim commands by\n",
    "            -0.2       5 < time <= 15\n",
    "            0.2        5 < time\n",
    "    \"\"\"\n",
    "    # Calculate the trim trajectory\n",
    "    delta = trim(time)\n",
    "    \n",
    "    # Perturb the control\n",
    "\n",
    "    # Return the perturbed control\n",
    "    return delta\n",
    "\n",
    "# Perturb the elevator\n",
    "run_sim_and_display(perturb_throttle)"
   ]
  },
  {
   "cell_type": "markdown",
   "metadata": {},
   "source": [
    "## Problem 5: Wind model implementation\n",
    "The previous problems did not consider wind. You will now implement the Dryden gust model as defined in Chapter 4.4 of the book. Namely, you will implement the transfer functions in the `__init__` function of `wind_siumulation.py`. \n",
    "\n",
    "For example, the parameter *self.u_w* is a transfer function of the form\n",
    "$$\n",
    "    H_u(s) = \\sigma_u \\sqrt{\\frac{2V_a}{L_u}} \\frac{1}{s+\\frac{V_a}{L_u}}\n",
    "$$\n",
    "This results in a transfer function with the numerator and denominator defined as\n",
    "$$\n",
    "numerator = \\sigma_u \\sqrt{\\frac{2V_a}{L_u}}\n",
    "$$\n",
    "$$\n",
    "denominator = s+\\frac{V_a}{L_u}\n",
    "$$\n",
    "The numerators and denominators are passed into a `TransferFunction` class that is provided to you by specifying their coefficients. The above equation for $H_u(s)$ can be implemented as follows:\n",
    "```\n",
    "a1 = sigma_u*np.sqrt(2.*Va/Lu)\n",
    "b1 = Va/Lu\n",
    "self.u_w = TransferFunction(num=np.array([[a1]]),\n",
    "                            den=np.array([[1, b1]]),\n",
    "                            Ts=Ts)\n",
    "```\n",
    "In `wind_siumulation.py`, you will initialize the following\n",
    "* `self.u_w` is the transfer function $H_u(s)$\n",
    "* `self.v_w` is the transfer function $H_v(s)$\n",
    "* `self.w_w` is the transfer function $H_w(s)$\n",
    "\n",
    "## Problem 6: Using non-zero wind parameters\n",
    "You will now run the simulation with a set of parameters for the Dresden gust model from Table 4.1 of the book. Use the medium altitude, moderate turbulence model parameters.\n",
    "\n",
    "### Question: What effects do you expect to see on the states for the medium altitude, moderate turbulence model as compared to the results of Problem 0?\n",
    "**Answer:** (Answer before simulation)\n",
    "\n",
    "It will cause side slip and instability\n",
    "\n",
    "Run the simulation and verify the expected behavior.\n",
    "\n",
    "### Question: Was the behavior as expected? If not, what did you observe differently from what you thought you would? Why did this difference occur?\n",
    "**Answer:** (Up to individual)"
   ]
  },
  {
   "cell_type": "code",
   "execution_count": null,
   "metadata": {},
   "outputs": [],
   "source": [
    "# Run a \"straight\" trim trajectory with medium altitude, moderate turbulence\n",
    "gust_params = MsgGustParams()\n",
    "gust_params.sigma_u = 3 # Set values for the remaining variables\n",
    "run_sim_and_display(trim, use_wind=True, gust_params=gust_params)"
   ]
  },
  {
   "cell_type": "markdown",
   "metadata": {},
   "source": [
    "## Simple code checking\n",
    "The following code does not need to change. It should just be used as a sanity check so that you know the code is implemented properly. The output should not have any lines reading `Failed test!`"
   ]
  },
  {
   "cell_type": "code",
   "execution_count": null,
   "metadata": {},
   "outputs": [],
   "source": [
    "from mav_sim.unit_tests.ch4_dynamics_test import run_all_tests\n",
    "run_all_tests()"
   ]
  }
 ],
 "metadata": {
  "interpreter": {
   "hash": "30ca21fc09f4c56e5acbea1f4499c31c12f30cf571b9542568708a4c43724cf0"
  },
  "kernelspec": {
   "display_name": "Python 3 (ipykernel)",
   "language": "python",
   "name": "python3"
  },
  "language_info": {
   "codemirror_mode": {
    "name": "ipython",
    "version": 3
   },
   "file_extension": ".py",
   "mimetype": "text/x-python",
   "name": "python",
   "nbconvert_exporter": "python",
   "pygments_lexer": "ipython3",
   "version": "3.10.2"
  }
 },
 "nbformat": 4,
 "nbformat_minor": 2
}
