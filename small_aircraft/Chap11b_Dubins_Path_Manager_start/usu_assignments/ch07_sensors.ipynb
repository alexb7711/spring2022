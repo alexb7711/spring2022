{
 "cells": [
  {
   "cell_type": "markdown",
   "metadata": {},
   "source": [
    "## Problem 1: Sensors implementation\n",
    "In `chap7/mav_dynamics.py` implement the following functions:\n",
    "* accelerometer\n",
    "* gyro\n",
    "* pressure\n",
    "* magnetometer\n",
    "* gps_error_trans_update\n",
    "* gps\n",
    "* calculate_sensor_readings\n",
    "\n",
    "## Implementation Tips\n",
    "### Generating normally distributed noise\n",
    "Normally distributed noise with a given variance can be generated using the `numpy.random.normal` function call. Zero mean noise with a variance sigma could be generated as follows.\n",
    "```\n",
    "np.random.normal(0., sigma)\n",
    "```\n",
    "\n",
    "### Noise Scale - Turning the noise on and off\n",
    "Note that each of these functions has an input parameter named `noise_scale`. This parameter is used to turn on and off the noise. Whenever you are calculating noise, multiply the noise term by the `noise_scale` so that the unit test can turn it off. For example, the $x$ value of the gyro should be calculated as\n",
    "```\n",
    "gyro_x = p + SENSOR.gyro_x_bias + noise_scale * np.random.normal(0., SENSOR.gyro_sigma)\n",
    "```\n",
    "### Magnetometer calculation\n",
    "The book brings up a magnetometer, but does not describe its details. Half of the magnetometer code is provided for you. Use your knowledge of transforms to convert the inertial frame magnetometer reading to body frame and then add white noise with a variance `SENSOR.mag_sigma` to each axis.\n",
    "\n",
    "### GPS calculation\n",
    "Note that the GPS velocity and course angle measurements can be calculated using the inputs available to you. Equations (7.21) and (7.22) with additive noise should be very useful. The variance of the noise is given as the constants `SENSOR.gps_Vg_sigma` and `SENSOR.gps_course_sigma` (i.e., ignore (7.24) ).\n",
    "\n",
    "### Tips for calculate_sensor_readings(...)\n",
    "When implementing `calculate_sensor_readings`, populate the `sensors` and `nu_update` variables using the other functions implemented. Determine the appropriate inputs to those functions and extract them from the inputs to the `calculate_sensor_readings` function. Also, only update the gps transient and sensor measurement inside the `if` statement. Leave the `else` statement alone. The purpose of the `if-else` statement is to simulate that GPS is not received as fast as the other measurements."
   ]
  },
  {
   "cell_type": "code",
   "execution_count": null,
   "metadata": {},
   "outputs": [],
   "source": [
    "# Note that this cell can be run separately to initialize for other cell blocks\n",
    "import numpy as np\n",
    "from mav_sim.chap3.mav_dynamics import DynamicState\n",
    "from mav_sim.chap7.run_sim import run_sim\n",
    "from mav_sim.chap7.sensor_viewer import SensorViewer\n",
    "from mav_sim.message_types.msg_sim_params import MsgSimParams\n",
    "from mav_sim.tools.signals import Signals\n",
    "from mav_sim.chap2.mav_viewer import MavViewer\n",
    "from mav_sim.chap3.data_viewer import DataViewer\n",
    "from mav_sim.tools.display_figures import display_data_view, display_mav_view\n",
    "import mav_sim.parameters.aerosonde_parameters as MAV\n",
    "\n",
    "# The viewers need to be initialized once due to restart issues with qtgraph\n",
    "if 'mav_view' not in globals():\n",
    "    print(\"Initializing mav_view\")\n",
    "    global mav_view\n",
    "    mav_view = MavViewer()  # initialize the mav viewer\n",
    "if 'data_view' not in globals():\n",
    "    print(\"Initializing data_view\")\n",
    "    global data_view\n",
    "    data_view = DataViewer()  # initialize view of data plots\n",
    "if 'sensor_view' not in globals():\n",
    "    print(\"Initializing data_view\")\n",
    "    global sensor_view\n",
    "    sensor_view = SensorViewer()  # initialize view of data plots\n",
    "\n",
    "# Initialize state values\n",
    "sim_params = MsgSimParams(end_time=40., video_name=\"chap4.avi\") # Sim ending in 10 seconds\n",
    "state = DynamicState()\n",
    "\n",
    "# Define nominal commands\n",
    "Va_command_nom = Signals(dc_offset=25.0,\n",
    "                        amplitude=3.0,\n",
    "                        start_time=2.0,\n",
    "                        frequency=0.01)\n",
    "altitude_command_nom = Signals(dc_offset=100.0,\n",
    "                        amplitude=20.0,\n",
    "                        start_time=0.0,\n",
    "                        frequency=0.02)\n",
    "course_command_nom = Signals(dc_offset=np.radians(180),\n",
    "                        amplitude=np.radians(45),\n",
    "                        start_time=5.0,\n",
    "                        frequency=0.015)\n",
    "\n",
    "# Function for running simulation and displaying results\n",
    "def run_sim_and_display(Va_command: Signals = Va_command_nom, altitude_command: Signals = altitude_command_nom, \\\n",
    "        course_command: Signals = course_command_nom):\n",
    "    global mav_view\n",
    "    global data_view\n",
    "    global sensor_view\n",
    "    data_view.reset(sim_params.start_time)\n",
    "    (mav_view, data_view, sensor_view) = run_sim(sim=sim_params, init_state=state, mav_view=mav_view, data_view=data_view, sensor_view=sensor_view, \\\n",
    "        Va_command=Va_command, altitude_command=altitude_command, course_command=course_command) \n",
    "    display_data_view(sensor_view)\n",
    "    display_data_view(data_view)\n",
    "    display_mav_view(mav_view)\n",
    "    \n",
    "# Run a controlled trajectory\n",
    "run_sim_and_display()"
   ]
  },
  {
   "cell_type": "markdown",
   "metadata": {},
   "source": [
    "## Simple code checking\n",
    "The following code does not need to change. It should just be used as a sanity check so that you know the code is implemented properly. The output should not have any lines reading `Failed test!`"
   ]
  },
  {
   "cell_type": "code",
   "execution_count": null,
   "metadata": {},
   "outputs": [],
   "source": [
    "from mav_sim.unit_tests.ch7_sensors_test import run_all_tests\n",
    "run_all_tests()"
   ]
  }
 ],
 "metadata": {
  "interpreter": {
   "hash": "ed425f2c20432ac4fa8be597b4b77b8d3b1ffe4dfa23b1c0ea7de82059b6e458"
  },
  "kernelspec": {
   "display_name": "Python 3.10.2 ('mav_3_10': venv)",
   "language": "python",
   "name": "python3"
  },
  "language_info": {
   "codemirror_mode": {
    "name": "ipython",
    "version": 3
   },
   "file_extension": ".py",
   "mimetype": "text/x-python",
   "name": "python",
   "nbconvert_exporter": "python",
   "pygments_lexer": "ipython3",
   "version": "3.10.2"
  },
  "orig_nbformat": 4
 },
 "nbformat": 4,
 "nbformat_minor": 2
}
