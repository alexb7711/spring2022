{
 "cells": [
  {
   "cell_type": "markdown",
   "metadata": {},
   "source": [
    "## Problem 0: Path follower implementation\n",
    "In `chap10.path_follower.py` implement the following two functions\n",
    "* `follow_straight_line(...)`\n",
    "* `follow_orbit(...)`\n",
    "\n",
    "A few notes on implementation:\n",
    "* Ensure to populate the entire autopilot command for each function\n",
    "* Use the `wrap(...)` function as appropriate\n",
    "* Only return a non-zero roll feed forward term for the circular orbit when $\\frac{d-\\rho}{\\rho} < 10$\n",
    "* Calculate the roll feed forward term assuming no wind"
   ]
  },
  {
   "cell_type": "code",
   "execution_count": null,
   "metadata": {},
   "outputs": [],
   "source": [
    "import numpy as np\n",
    "from mav_sim.chap3.mav_dynamics import DynamicState\n",
    "from mav_sim.chap10.run_sim import run_sim\n",
    "from mav_sim.message_types.msg_path import MsgPath\n",
    "from mav_sim.message_types.msg_state import MsgState\n",
    "from mav_sim.message_types.msg_sim_params import MsgSimParams\n",
    "from typing import Callable\n",
    "\n",
    "from mav_sim.chap10.path_viewer import PathViewer\n",
    "from mav_sim.chap3.data_viewer import DataViewer\n",
    "from mav_sim.tools.display_figures import display_data_view, display_mav_view\n",
    "\n",
    "# The viewers need to be initialized once due to restart issues with qtgraph\n",
    "if 'path_view' not in globals():\n",
    "    print(\"Initializing mav_view\")\n",
    "    global path_view\n",
    "    path_view = PathViewer()  # initialize the mav viewer\n",
    "if 'data_view' not in globals():\n",
    "    print(\"Initializing data_view\")\n",
    "    global data_view\n",
    "    data_view = DataViewer()  # initialize view of data plots\n",
    "\n",
    "# Initialize the simulation parameters\n",
    "sim_params_default = MsgSimParams(end_time=50., video_name=\"cha10.avi\") # Sim ending in 10 seconds\n",
    "state = DynamicState()\n",
    "\n",
    "# Function for running simulation and displaying results\n",
    "def run_sim_and_display(path_fnc: Callable[ [float, MsgState], MsgPath], sim_params: MsgSimParams = sim_params_default):\n",
    "    global path_view\n",
    "    global data_view\n",
    "    data_view.reset(sim_params.start_time)\n",
    "    (path_view, data_view) = run_sim(sim=sim_params, path_fnc=path_fnc, init_state=state, path_view=path_view, data_view=data_view) \n",
    "    display_data_view(data_view)\n",
    "    display_mav_view(path_view)"
   ]
  },
  {
   "cell_type": "code",
   "execution_count": null,
   "metadata": {},
   "outputs": [],
   "source": [
    "# path definition\n",
    "path = MsgPath()\n",
    "path.type = \"line\"\n",
    "path.line_origin = np.array([[0.0, 0.0, -100.0]]).T\n",
    "path.line_direction = np.array([[0.5, 1.0, 0.0]]).T\n",
    "path.line_direction = path.line_direction / np.linalg.norm(path.line_direction)\n",
    "\n",
    "# Constant path function definition\n",
    "def constant_path(time: float, state: MsgState) -> MsgPath:\n",
    "    return path\n",
    "\n",
    "# Follow path\n",
    "run_sim_and_display(path_fnc=constant_path)"
   ]
  },
  {
   "cell_type": "markdown",
   "metadata": {},
   "source": [
    "## Problem 1: Achievable Line Defined Between Points\n",
    "Control the aircraft to follow a straight line path at 20 m/s where the line is defined by the points $w_0^i = \\begin{bmatrix}0 \\\\ 2 \\\\ -100 \\end{bmatrix}$ and $w_1^i = \\begin{bmatrix}50 \\\\ 10 \\\\ -100 \\end{bmatrix}$\n",
    "\n",
    "### Describe the results\n",
    "(Answers will vary, but should include discussion on good tracking although there is a bit of oscillation around the height and a steady-state error in pitch angle)"
   ]
  },
  {
   "cell_type": "code",
   "execution_count": null,
   "metadata": {},
   "outputs": [],
   "source": [
    "# path definition\n",
    "path = MsgPath()\n",
    "path.type = \"line\"\n",
    "w_0 = np.array([[0],[2],[-100]])\n",
    "w_1 = np.array([[50],[10],[-100]])\n",
    "path.line_origin = w_0\n",
    "path.line_direction = w_1-w_0\n",
    "path.line_direction = path.line_direction / np.linalg.norm(path.line_direction)\n",
    "path.airspeed = 20\n",
    "\n",
    "# Constant path function definition\n",
    "def constant_path(time: float, state: MsgState) -> MsgPath:\n",
    "    return path\n",
    "\n",
    "# Follow path\n",
    "run_sim_and_display(path_fnc=constant_path)"
   ]
  },
  {
   "cell_type": "markdown",
   "metadata": {},
   "source": [
    "## Problem 2: Near-Achievable Line Defined Between Points\n",
    "Control the aircraft to follow a straight line path at 30 m/s where the line is defined by the points $w_0^i = \\begin{bmatrix}0 \\\\ 2 \\\\ -100 \\end{bmatrix}$ and $w_1^i = \\begin{bmatrix}100 \\\\ 200 \\\\ -150 \\end{bmatrix}$\n",
    "\n",
    "### Describe the results\n",
    "(Answers will vary, but should include discussion on good tracking of desired positions with steady-state errors on airspeed and pitch angle)"
   ]
  },
  {
   "cell_type": "code",
   "execution_count": null,
   "metadata": {},
   "outputs": [],
   "source": [
    "# path definition\n",
    "path = MsgPath()\n",
    "path.type = \"line\"\n",
    "w_0 = np.array([[0],[2],[-100]])\n",
    "w_1 = np.array([[100],[200],[-150]])\n",
    "path.line_origin = w_0\n",
    "path.line_direction = w_1-w_0\n",
    "path.line_direction = path.line_direction / np.linalg.norm(path.line_direction)\n",
    "path.airspeed = 30\n",
    "\n",
    "# Constant path function definition\n",
    "def constant_path(time: float, state: MsgState) -> MsgPath:\n",
    "    return path\n",
    "\n",
    "# Follow path\n",
    "run_sim_and_display(path_fnc=constant_path)"
   ]
  },
  {
   "cell_type": "markdown",
   "metadata": {},
   "source": [
    "## Problem 3: Non-Achievable Line Defined Between Points\n",
    "Control the aircraft to follow a straight line path at 30 m/s where the line is defined by the points $w_0^i = \\begin{bmatrix}0 \\\\ 2 \\\\ -100 \\end{bmatrix}$ and $w_1^i = \\begin{bmatrix}100 \\\\ 200 \\\\ -200 \\end{bmatrix}$\n",
    "\n",
    "### Describe the results\n",
    "(Answers will vary, but should include discussion on good tracking of desired positions with large steady-state errors on airspeed and pitch angle)\n",
    "\n",
    "### What do you notice about the z-component of the line direction definition and the ability to track the line?\n",
    "(Answers will vary, but should discuss the limitation on airspeed)"
   ]
  },
  {
   "cell_type": "code",
   "execution_count": null,
   "metadata": {},
   "outputs": [],
   "source": [
    "# path definition\n",
    "path = MsgPath()\n",
    "path.type = \"line\"\n",
    "w_0 = np.array([[0],[2],[-100]])\n",
    "w_1 = np.array([[100],[200],[-200]])\n",
    "path.line_origin = w_0\n",
    "path.line_direction = w_1-w_0\n",
    "path.line_direction = path.line_direction / np.linalg.norm(path.line_direction)\n",
    "path.airspeed = 30\n",
    "\n",
    "# Constant path function definition\n",
    "def constant_path(time: float, state: MsgState) -> MsgPath:\n",
    "    return path\n",
    "\n",
    "# Follow path\n",
    "run_sim_and_display(path_fnc=constant_path)"
   ]
  },
  {
   "cell_type": "markdown",
   "metadata": {},
   "source": [
    "## Problem 4: Trackable Orbit definition\n",
    "Control the aircraft in a clockwise circular orbit around the point $w_0^i = \\begin{bmatrix}400 \\\\ 200 \\\\ -100 \\end{bmatrix}$ at a radius of 200 meters and airspeed of 25 m/s.\n",
    "\n",
    "### Describe the results\n",
    "(Answers will vary, but should include discussion on good tracking of desired positions)\n",
    "\n"
   ]
  },
  {
   "cell_type": "code",
   "execution_count": null,
   "metadata": {},
   "outputs": [],
   "source": [
    "# path definition\n",
    "path = MsgPath()\n",
    "w_0 = np.array([[400],[200],[-100]])\n",
    "path.type = \"orbit\"\n",
    "path.orbit_center = w_0\n",
    "path.orbit_radius = 200\n",
    "path.orbit_direction = \"CW\"\n",
    "path.airspeed = 25\n",
    "\n",
    "# Constant path function definition\n",
    "def constant_path(time: float, state: MsgState) -> MsgPath:\n",
    "    return path\n",
    "\n",
    "# Follow path\n",
    "run_sim_and_display(path_fnc=constant_path)"
   ]
  },
  {
   "cell_type": "markdown",
   "metadata": {},
   "source": [
    "## Problem 5: UnTrackable Orbit definition\n",
    "Control the aircraft in a counter-clockwise circular orbit around the point $w_0^i = \\begin{bmatrix}100 \\\\ -100 \\\\ -100 \\end{bmatrix}$ at a radius of 75 meters and airspeed of 25 m/s.\n",
    "\n",
    "### Describe the results\n",
    "(Answers will vary, but should include discussion on poor tracking of orbit)\n",
    "\n",
    "### What do you notice about the radius and the ability to track the orbit?\n",
    "(Answers will vary, but should discuss the fact that below a certain radius, the orbit is not followed well at all. The aircraft has a minimum turning radius.)"
   ]
  },
  {
   "cell_type": "code",
   "execution_count": null,
   "metadata": {},
   "outputs": [],
   "source": [
    "# path definition\n",
    "path = MsgPath()\n",
    "w_0 = np.array([[100],[-100],[-100]])\n",
    "path.type = \"orbit\"\n",
    "path.orbit_center = w_0\n",
    "path.orbit_radius = 75\n",
    "path.orbit_direction = \"CCW\"\n",
    "path.airspeed = 25\n",
    "\n",
    "# Constant path function definition\n",
    "def constant_path(time: float, state: MsgState) -> MsgPath:\n",
    "    return path\n",
    "\n",
    "# Follow path\n",
    "run_sim_and_display(path_fnc=constant_path)"
   ]
  },
  {
   "cell_type": "markdown",
   "metadata": {},
   "source": [
    "## Problem 6: Switching control with no transition\n",
    "Control the aircraft at 25 m/s using straight-line paths to move between waypoints $w_0^i = \\begin{bmatrix}0 \\\\ 0 \\\\ -100 \\end{bmatrix}$, $w_1^i = \\begin{bmatrix}600 \\\\ 0 \\\\ -100 \\end{bmatrix}$, $w_2^i = \\begin{bmatrix}600 \\\\ 1 \\\\ -100 \\end{bmatrix}$. Switch from executing linesegment $\\overline{w_0 w_1}$ to $\\overline{w_1 w_2}$ when the aircraft's north position is greater than or equal to the north position of $w_1^i$.\n",
    "\n",
    "### Describe the quality of the path following\n",
    "(Answers will vary, but should include a discussion of overshoot from one path to another)\n"
   ]
  },
  {
   "cell_type": "code",
   "execution_count": null,
   "metadata": {},
   "outputs": [],
   "source": [
    "# Define points\n",
    "w_0 = np.array([[0],[0],[-100]])\n",
    "w_1 = np.array([[600],[0],[-100]])\n",
    "w_2 = np.array([[600],[1],[-100]])\n",
    "\n",
    "\n",
    "# path1 definition\n",
    "path1 = MsgPath()\n",
    "path1.type = \"line\"\n",
    "path1.line_origin = w_0\n",
    "path1.line_direction = w_1-w_0\n",
    "path1.line_direction = path1.line_direction / np.linalg.norm(path1.line_direction)\n",
    "path1.airspeed = 25\n",
    "\n",
    "# path2 definition\n",
    "path2 = MsgPath()\n",
    "path2.type = \"line\"\n",
    "path2.line_origin = w_1\n",
    "path2.line_direction = w_2-w_1\n",
    "path2.line_direction = path2.line_direction / np.linalg.norm(path2.line_direction)\n",
    "path2.airspeed = 25\n",
    "\n",
    "# Switching path function definition\n",
    "global mode\n",
    "mode = 1 # 1 corresponds to path 1, 2 correpsonds to path 2\n",
    "def switching_path(time: float, state: MsgState) -> MsgPath:\n",
    "    # Load in the mode\n",
    "    global mode\n",
    "    \n",
    "    # determine if the path should be switched\n",
    "    if state.north >= w_1.item(0):\n",
    "        mode = 2\n",
    "\n",
    "    # Return the path based upon the modality\n",
    "    if mode == 1:\n",
    "        return path1\n",
    "    else:\n",
    "        return path2\n",
    "\n",
    "# Follow path\n",
    "run_sim_and_display(path_fnc=switching_path)"
   ]
  },
  {
   "cell_type": "markdown",
   "metadata": {},
   "source": [
    "## Problem 7: Switching control with arc transition\n",
    "Repeat problem 6, but instead of having a hard switch between $\\overline{w_0 w_1}$ and $\\overline{w_1 w_2}$, you will use a circular arc of radius 150 m to perform the switch. Create a circular orbit such that it has exactly one tangent point on $\\overline{w_0 w_1}$ and one on $\\overline{w_1 w_2}$. Switch to the arc when the aircraft north state has reached the value of the tangent point. Switch from executing the arc to executing $\\overline{w_1 w_2}$ when the aircraft east state has reached the value of the tangent point.\n",
    "\n",
    "### Describe the quality of the path following\n",
    "(Answers will vary, but should include a discussion of overshoot from one path to another)"
   ]
  },
  {
   "cell_type": "code",
   "execution_count": null,
   "metadata": {},
   "outputs": [],
   "source": [
    "# Define points\n",
    "w_0 = np.array([[0],[0],[-100]])\n",
    "w_1 = np.array([[600],[0],[-100]])\n",
    "w_2 = np.array([[600],[1],[-100]])\n",
    "\n",
    "\n",
    "# path1 definition\n",
    "path1 = MsgPath()\n",
    "path1.type = \"line\"\n",
    "path1.line_origin = w_0\n",
    "path1.line_direction = w_1-w_0\n",
    "path1.line_direction = path1.line_direction / np.linalg.norm(path1.line_direction)\n",
    "path1.airspeed = 25\n",
    "\n",
    "# path2 definition\n",
    "path2 = MsgPath()\n",
    "path2.type = \"orbit\"\n",
    "path2.orbit_radius = 150\n",
    "path2.orbit_direction = \"CW\"\n",
    "path2.airspeed = 25\n",
    "switch_north = w_1.item(0)-path2.orbit_radius # Switching conditions and orbit align \n",
    "switch_east = w_1.item(1)+path2.orbit_radius  # due to the geometry of w_0, w_1, and w_2\n",
    "path2.orbit_center = np.array([[switch_north],[switch_east],[-100]])\n",
    "\n",
    "\n",
    "# path3 definition\n",
    "path3 = MsgPath()\n",
    "path3.type = \"line\"\n",
    "path3.line_origin = w_1\n",
    "path3.line_direction = w_2-w_1\n",
    "path3.line_direction = path3.line_direction / np.linalg.norm(path3.line_direction)\n",
    "path3.airspeed = 25\n",
    "\n",
    "# Switching path function definition\n",
    "global mode2\n",
    "mode2 = 1 # 1 corresponds to path 1, 2 correpsonds to path 2, 3 corresponds to path 3\n",
    "def switching_path2(time: float, state: MsgState) -> MsgPath:\n",
    "    # Load in the mode\n",
    "    global mode2\n",
    "    \n",
    "    # determine if the path should be switched\n",
    "    if mode2 == 1 and state.north >= switch_north:\n",
    "        mode2 = 2\n",
    "    elif mode2 == 2 and state.east >= switch_east:\n",
    "        mode2 = 3\n",
    "\n",
    "    # Return the path based upon the modality\n",
    "    if mode2 == 1:\n",
    "        return path1\n",
    "    elif mode2 == 2:\n",
    "        return path2\n",
    "    else:\n",
    "        return path3\n",
    "\n",
    "# Follow path\n",
    "run_sim_and_display(path_fnc=switching_path2)"
   ]
  },
  {
   "cell_type": "markdown",
   "metadata": {},
   "source": [
    "## Simple code checking\n",
    "The following code does not need to change. It should just be used as a sanity check so that you know the code is implemented properly. The output should not have any lines reading `Failed test!`"
   ]
  },
  {
   "cell_type": "code",
   "execution_count": null,
   "metadata": {},
   "outputs": [],
   "source": [
    "from mav_sim.unit_tests.ch10_path_follower_test import run_all_tests\n",
    "run_all_tests()"
   ]
  }
 ],
 "metadata": {
  "interpreter": {
   "hash": "ed425f2c20432ac4fa8be597b4b77b8d3b1ffe4dfa23b1c0ea7de82059b6e458"
  },
  "kernelspec": {
   "display_name": "Python 3.10.2 ('mav_3_10': venv)",
   "language": "python",
   "name": "python3"
  },
  "language_info": {
   "codemirror_mode": {
    "name": "ipython",
    "version": 3
   },
   "file_extension": ".py",
   "mimetype": "text/x-python",
   "name": "python",
   "nbconvert_exporter": "python",
   "pygments_lexer": "ipython3",
   "version": "3.10.2"
  },
  "orig_nbformat": 4
 },
 "nbformat": 4,
 "nbformat_minor": 2
}
