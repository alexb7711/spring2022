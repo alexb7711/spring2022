{
 "cells": [
  {
   "cell_type": "markdown",
   "metadata": {},
   "source": [
    "## Problem 0: Path manager implementation\n",
    "Implement the following and ensure the unit tests pass.\n",
    "* `chap11/path_manager_utilities.py`:\n",
    "  * `inHalfSpace(...)`\n",
    "* `chap11/line_manager.py`:\n",
    "  * `construct_line(...)`\n",
    "  * `line_manager(...)`\n",
    "* `chap11/fillet_manager.py`:\n",
    "  * `construct_fillet_line(...)`\n",
    "  * `construct_fillet_circle(...)`\n",
    "  * `fillet_manager(...)`\n",
    "\n",
    "### Hints on implementation\n",
    "* `np.linalg.norm(...)` will be very useful for computing the norm of a vector\n",
    "* Make sure to set the airspeed on your paths. The airspeed can be found using `path.airspeed = get_airspeed(waypoints, ptr)`\n",
    "* Problems 1 and 2 help guide you to accounting for singularities\n",
    "* The path manager does not clear after use, so you will see the previous paths on the display if you run all of them sequentially.\n",
    "\n",
    "### Note on the unit tests\n",
    "There will be no unit tests for the `line_manager(...)` and `fillet_manager(...)` functions. Furthermore, there are several scenarios where dividing by zero becomes an issue. As these are singularities that can be handled in various ways, there is not a correct answer. Thus, these cases may not all arise in the unit tests, but they will be tested in the problems 1 and 2.\n"
   ]
  },
  {
   "cell_type": "code",
   "execution_count": null,
   "metadata": {},
   "outputs": [],
   "source": [
    "import mav_sim.parameters.planner_parameters as PLAN\n",
    "import numpy as np\n",
    "from mav_sim.chap3.mav_dynamics import DynamicState\n",
    "from mav_sim.chap11.run_sim import run_sim\n",
    "from mav_sim.message_types.msg_sim_params import MsgSimParams\n",
    "from mav_sim.message_types.msg_waypoints import MsgWaypoints\n",
    "\n",
    "from mav_sim.chap11.waypoint_viewer import WaypointViewer\n",
    "from mav_sim.chap3.data_viewer import DataViewer\n",
    "from mav_sim.tools.display_figures import display_data_view, display_mav_view\n",
    "\n",
    "# The viewers need to be initialized once due to restart issues with qtgraph\n",
    "if 'path_view' not in globals():\n",
    "    print(\"Initializing waypoint viewer\")\n",
    "    global waypoint_view\n",
    "    waypoint_view = WaypointViewer()\n",
    "if 'data_view' not in globals():\n",
    "    print(\"Initializing data_view\")\n",
    "    global data_view\n",
    "    data_view = DataViewer()\n",
    "\n",
    "# Initialize the simulation parameters\n",
    "sim_params_default = MsgSimParams(end_time=130., video_name=\"cha11.avi\") # Sim ending in 10 seconds\n",
    "state = DynamicState()\n",
    "\n",
    "# Function for running simulation and displaying results\n",
    "def run_sim_and_display(waypoints: MsgWaypoints, sim_params: MsgSimParams = sim_params_default):\n",
    "    global waypoint_view\n",
    "    global data_view\n",
    "    data_view.reset(sim_params.start_time)\n",
    "    (waypoint_view, data_view) = run_sim(sim=sim_params, waypoints=waypoints, init_state=state, waypoint_view=waypoint_view, data_view=data_view) \n",
    "    display_data_view(data_view)\n",
    "    display_mav_view(waypoint_view)"
   ]
  },
  {
   "cell_type": "code",
   "execution_count": null,
   "metadata": {},
   "outputs": [],
   "source": [
    "# Waypoint definition\n",
    "waypoints = MsgWaypoints()\n",
    "waypoints.type = 'straight_line'\n",
    "Va = PLAN.Va0\n",
    "waypoints.add(np.array([[0, 0, -100]]).T, Va, np.radians(0), np.inf, 0, 0)\n",
    "waypoints.add(np.array([[1000, 0, -100]]).T, Va, np.radians(45), np.inf, 0, 0)\n",
    "waypoints.add(np.array([[0, 1000, -100]]).T, Va, np.radians(45), np.inf, 0, 0)\n",
    "\n",
    "# Run the simulation\n",
    "run_sim_and_display(waypoints=waypoints)"
   ]
  },
  {
   "cell_type": "markdown",
   "metadata": {},
   "source": [
    "## Problem 1 - Straight line fillet paths\n",
    "There are two scenarios where the fillet path equations have a singularity. The first is the most common: the waypoints cannot form a straight line. This is very problematic because many paths have three waypoints that are colinear. In fact, the default motion for the UAV once it has reached the final waypoint is to proceed in a straight line.\n",
    "\n",
    "Modify `construct_fillet_line` and/or `construct_fillet_circle` so that the fillet path manager will work for the code below. Make sure that the unit tests still pass."
   ]
  },
  {
   "cell_type": "code",
   "execution_count": null,
   "metadata": {},
   "outputs": [],
   "source": [
    "# Waypoint definition\n",
    "waypoints = MsgWaypoints()\n",
    "waypoints.type = 'fillet'\n",
    "Va = PLAN.Va0\n",
    "waypoints.add(np.array([[0, 0, -100]]).T, Va, np.radians(0), np.inf, 0, 0)\n",
    "waypoints.add(np.array([[1000, 0, -100]]).T, Va, np.radians(45), np.inf, 0, 0)\n",
    "waypoints.add(np.array([[2000, 0, -100]]).T, Va, np.radians(45), np.inf, 0, 0)\n",
    "\n",
    "# Run the simulation\n",
    "run_sim_and_display(waypoints=waypoints)"
   ]
  },
  {
   "cell_type": "markdown",
   "metadata": {},
   "source": [
    "## Problem 2 - Paths that fold back\n",
    "The second scenario with singularities actually occurs in both straight-line and fillet paths. The case occurs when the path folds back onto itself. While not as common of an occurance, it must be dealt with regardless. \n",
    "\n",
    "Modify `construct_fillet_line`, `construct_fillet_circle`, and `construct_line` so that the path managers will work for the code below. The switching behaviors are ill-defined in this case. Redesign them so that if a path will fold back onto itself, the UAV will make it all the way to the waypoint before starting back. Make sure that the unit tests still pass."
   ]
  },
  {
   "cell_type": "code",
   "execution_count": null,
   "metadata": {},
   "outputs": [],
   "source": [
    "# Waypoint definition\n",
    "waypoints = MsgWaypoints()\n",
    "waypoints.type = 'fillet'\n",
    "Va = PLAN.Va0\n",
    "waypoints.add(np.array([[0, 0, -100]]).T, Va, np.radians(0), np.inf, 0, 0)\n",
    "waypoints.add(np.array([[1000, 0, -100]]).T, Va, np.radians(45), np.inf, 0, 0)\n",
    "waypoints.add(np.array([[0, 0, -100]]).T, Va, np.radians(45), np.inf, 0, 0)\n",
    "\n",
    "# Run the simulation for the fillet path manager\n",
    "run_sim_and_display(waypoints=waypoints)\n",
    "\n",
    "# Run the simulation for the straight line path manager\n",
    "waypoints.type = 'straight_line'\n",
    "run_sim_and_display(waypoints=waypoints)"
   ]
  },
  {
   "cell_type": "markdown",
   "metadata": {},
   "source": [
    "## Problem 3 - Compare paths\n",
    "Create five waypoints that are not colinear with the first and last waypoints being $w = \\begin{bmatrix} 0 \\\\ 0 \\\\ -100 \\end{bmatrix}$. Ensure that there is sufficient spacing between waypoints such that the fillet circles do not overlap. Run it for both the `straight-line` and `fillet` approaches. Ensure that the simulation time is sufficient to run passed the final waypoint.\n",
    "\n",
    "### Question: what is the difference between the performance of the straight_line path and the fillet path?\n",
    "(Answers here)"
   ]
  },
  {
   "cell_type": "code",
   "execution_count": null,
   "metadata": {},
   "outputs": [],
   "source": [
    "# code goes here"
   ]
  },
  {
   "cell_type": "markdown",
   "metadata": {},
   "source": [
    "## Simple code checking\n",
    "The following code does not need to change. It should just be used as a sanity check so that you know the code is implemented properly. The output should not have any lines reading `Failed test!`"
   ]
  },
  {
   "cell_type": "code",
   "execution_count": null,
   "metadata": {},
   "outputs": [],
   "source": [
    "from mav_sim.unit_tests.ch11_line_and_fillet_path_manager_test import run_all_tests\n",
    "run_all_tests()"
   ]
  }
 ],
 "metadata": {
  "interpreter": {
   "hash": "30ca21fc09f4c56e5acbea1f4499c31c12f30cf571b9542568708a4c43724cf0"
  },
  "kernelspec": {
   "display_name": "Python 3 (ipykernel)",
   "language": "python",
   "name": "python3"
  },
  "language_info": {
   "codemirror_mode": {
    "name": "ipython",
    "version": 3
   },
   "file_extension": ".py",
   "mimetype": "text/x-python",
   "name": "python",
   "nbconvert_exporter": "python",
   "pygments_lexer": "ipython3",
   "version": "3.10.4"
  }
 },
 "nbformat": 4,
 "nbformat_minor": 2
}
