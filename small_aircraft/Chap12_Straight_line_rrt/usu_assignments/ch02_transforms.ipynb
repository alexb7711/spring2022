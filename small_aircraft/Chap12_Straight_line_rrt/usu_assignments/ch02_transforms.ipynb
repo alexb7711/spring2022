{
 "cells": [
  {
   "cell_type": "markdown",
   "metadata": {},
   "source": [
    "## Problem 1: Basic concentric frame transforms\n",
    "Most of the frames have the same origin. The code in chap2/transforms.py calculates the rotation matrices used to transform between these frames. Correctly implement the following functions:\n",
    "* rot_x: calculate elementary rotation matrix about x-axis\n",
    "* rot_y: calculate elementary rotation matrix about y-axis\n",
    "* rot_z: calculate elementary rotation matrix about z-axis\n",
    "* rot_v_to_v1: calculates the rotation from frame v to v1\n",
    "* rot_v1_to_v2: calculates the rotation from frame v1 to v2\n",
    "* rot_v2_to_b: calculates the rotation from v2 to body frame\n",
    "* rot_b_to_s: calculates the rotation from body to stability frame\n",
    "* rot_s_to_w: calculates the rotation from stability to wind frame\n",
    "\n",
    "*Hint:* You should only compute the cosine and sine of the angle in *rot_x*, *rot_y*, and *rot_z*. All the remaining functions should call those functions (i.e., one line change from what they currently are)\n",
    "\n",
    "Use these function to compute the following. Assume that $\\psi = \\frac{\\pi}{4}$, $\\theta = 0.3$, $\\phi = 0.25$, $\\alpha = 0.1$, and $\\beta = 0.15$. Display the results in the exported pdf.\n",
    "* Compute $p_1^{v1}$ given $p_1^v = \\begin{bmatrix} 1 \\\\ 2 \\\\ 3 \\end{bmatrix}$\n",
    "* Compute $p_1^{w}$\n",
    "* Compute $p_2^{s}$ given $p_2^{v2} = \\begin{bmatrix} 4 \\\\ 5 \\\\ 6 \\end{bmatrix}$\n",
    "* Compute $p_2^v$\n",
    "\n"
   ]
  },
  {
   "cell_type": "code",
   "execution_count": 5,
   "metadata": {},
   "outputs": [
    {
     "name": "stdout",
     "output_type": "stream",
     "text": [
      "Gets here\n",
      "p_1^v1 = \n"
     ]
    },
    {
     "data": {
      "text/plain": [
       "array([[2.12132034],\n",
       "       [0.70710678],\n",
       "       [3.        ]])"
      ]
     },
     "metadata": {},
     "output_type": "display_data"
    },
    {
     "name": "stdout",
     "output_type": "stream",
     "text": [
      "p_1^w = \n"
     ]
    },
    {
     "data": {
      "text/plain": [
       "array([[1.66990864],\n",
       "       [1.31449478],\n",
       "       [3.07953058]])"
      ]
     },
     "metadata": {},
     "output_type": "display_data"
    },
    {
     "name": "stdout",
     "output_type": "stream",
     "text": [
      "p_2^s = \n"
     ]
    },
    {
     "data": {
      "text/plain": [
       "array([[5.33287   ],\n",
       "       [5.59487616],\n",
       "       [4.15425786]])"
      ]
     },
     "metadata": {},
     "output_type": "display_data"
    },
    {
     "name": "stdout",
     "output_type": "stream",
     "text": [
      "p_2^v = \n"
     ]
    },
    {
     "data": {
      "text/plain": [
       "array([[0.42035179],\n",
       "       [7.4914196 ],\n",
       "       [4.54993811]])"
      ]
     },
     "metadata": {},
     "output_type": "display_data"
    }
   ],
   "source": [
    "%autoreload 1\n",
    "import numpy as np # Imports the numpy library and creates the alias np\n",
    "from IPython.display import display # Used to display variables nicely in Jupyter\n",
    "from mav_sim.chap2.transforms import rot_v_to_v1, rot_v1_to_v2, rot_v2_to_b, rot_b_to_s, rot_s_to_w\n",
    "\n",
    "# Calculate the required rotation matrices\n",
    "psi = np.pi/4\n",
    "theta = 0.3\n",
    "phi = 0.25\n",
    "alpha = 0.1\n",
    "beta = 0.15\n",
    "R_v_to_v1 = rot_v_to_v1(psi)\n",
    "R_v1_to_v2 = rot_v1_to_v2(theta)\n",
    "R_v2_to_b = rot_v2_to_b(phi)\n",
    "R_b_to_s = rot_b_to_s(alpha)\n",
    "R_s_to_w = rot_s_to_w(beta)\n",
    "\n",
    "# Initialize p1 and p2\n",
    "p_1_v = np.array([[1],[2],[3]])\n",
    "p_2_v2 = np.array([[4],[5],[6]])\n",
    "\n",
    "# Calculate p_1^v1\n",
    "p_1_v1 = R_v_to_v1 @ p_1_v\n",
    "print('p_1^v1 = ')\n",
    "display(p_1_v1)\n",
    "\n",
    "# Calculate p_1^w\n",
    "p_1_w = R_s_to_w @ R_b_to_s @ R_v2_to_b @ R_v1_to_v2 @ R_v_to_v1 @ p_1_v\n",
    "print('p_1^w = ')\n",
    "display(p_1_w)\n",
    "\n",
    "# Calculate p_2^s\n",
    "p_2_s = R_s_to_w @ R_b_to_s @ R_v2_to_b @ p_2_v2\n",
    "print('p_2^s = ')\n",
    "display(p_2_s)\n",
    "\n",
    "# Calculate p_2^v\n",
    "R_v2_to_v1 = R_v1_to_v2.T\n",
    "R_v1_to_v = R_v_to_v1.T\n",
    "p_2_v = R_v1_to_v @ R_v2_to_v1 @ p_2_v2\n",
    "print('p_2^v = ')\n",
    "display(p_2_v)\n"
   ]
  },
  {
   "cell_type": "markdown",
   "metadata": {},
   "source": [
    "\n",
    "\n",
    "\n",
    "## Problem 2: Compound rotation matrices\n",
    "The transform from the vehicle frame to the body frame can be written as a compound of three rotation matrices (and so can the inverse transform). However, these matrices are used so often that it is nice to avoid multiplying these three matrices each time the transform is needed. \n",
    "\n",
    "Implement the following functions:\n",
    "\n",
    "* rot_v_to_b: calculates the rotation from vehicle to body frame\n",
    "* rot_b_to_v: calculates the rotation from body frame to vehicle frame\n",
    "\n",
    "*Hint:* You really only need to implement one of them and then use a transpose for the other\n",
    "\n",
    "Using the same values as above, show that your implementation produces the same rotation matrices as three elementary matrices multiplied together. Display the difference in the exported pdf.\n"
   ]
  },
  {
   "cell_type": "code",
   "execution_count": 2,
   "metadata": {},
   "outputs": [
    {
     "name": "stdout",
     "output_type": "stream",
     "text": [
      "R_v_to_b_diff\n"
     ]
    },
    {
     "data": {
      "text/plain": [
       "array([[ 0.00000000e+00,  0.00000000e+00,  0.00000000e+00],\n",
       "       [ 0.00000000e+00,  0.00000000e+00,  0.00000000e+00],\n",
       "       [-5.55111512e-17,  0.00000000e+00,  0.00000000e+00]])"
      ]
     },
     "metadata": {},
     "output_type": "display_data"
    },
    {
     "name": "stdout",
     "output_type": "stream",
     "text": [
      "R_b_to_v_diff\n"
     ]
    },
    {
     "data": {
      "text/plain": [
       "array([[ 0.00000000e+00,  0.00000000e+00, -5.55111512e-17],\n",
       "       [ 0.00000000e+00,  0.00000000e+00,  0.00000000e+00],\n",
       "       [ 0.00000000e+00,  0.00000000e+00,  0.00000000e+00]])"
      ]
     },
     "metadata": {},
     "output_type": "display_data"
    }
   ],
   "source": [
    "from mav_sim.chap2.transforms import rot_v_to_b, rot_b_to_v\n",
    "\n",
    "# Calculate the rotation matrices as compound rotation matrices (i.e., matrix multiplication)\n",
    "R_v_to_b_comp = R_v2_to_b @ R_v1_to_v2 @ R_v_to_v1\n",
    "R_b_to_v_comp = R_v_to_b_comp.T\n",
    "\n",
    "# Calculate the rotation matrices using the functions\n",
    "R_v_to_b_func = rot_v_to_b(psi, theta, phi)\n",
    "R_b_to_v_func = rot_b_to_v(psi, theta, phi)\n",
    "\n",
    "# Calculate and display the difference\n",
    "R_v_to_b_diff = R_v_to_b_comp - R_v_to_b_func\n",
    "print(\"R_v_to_b_diff\")\n",
    "display(R_v_to_b_diff)\n",
    "\n",
    "R_b_to_v_diff = R_b_to_v_comp - R_b_to_v_func\n",
    "print(\"R_b_to_v_diff\")\n",
    "display(R_b_to_v_diff)\n"
   ]
  },
  {
   "cell_type": "markdown",
   "metadata": {},
   "source": [
    "## Problem 3: Tranform to vehicle frame\n",
    "Converting to and from the inertial frame requires translation. Implement the following functions:\n",
    "* trans_i_to_v: transforms a point from inertial frame to the vehicle frame\n",
    "* trans_v_to_i: transforms a point from vehicle frame to the inertial frame\n",
    "* trans_i_to_b: transforms a point from inertial frame to the body frame\n",
    "* trans_b_to_i: transforms a point from the body frame to the inertial frame\n",
    "\n",
    "Note that the transform between inertial and the vehicle frame is purely translational. The transform between the vehicle and body frame is purely rotational. Thus, you can use the functions already implemented to make the *trans_i_to_b* and *trans_b_to_i* functions quite simple.\n",
    "\n",
    "Given that the UAV is in the position $p_n = 1$, $p_e = 2$, and $p_d = 3$ with the angles defined as before, transform the following points to the body frame using the implemented functions:\n",
    "\n",
    "$p_3^i = \\begin{bmatrix} 1 \\\\ 2 \\\\ 3\\end{bmatrix}$\n",
    "\n",
    "$p_4^i = \\begin{bmatrix} 3 \\\\ 2 \\\\ 1\\end{bmatrix}$\n",
    "\n",
    "Transform the following point in the body frame to the inertial frame\n",
    "\n",
    "$p_5^b = \\begin{bmatrix} 1 \\\\ 2 \\\\ 3\\end{bmatrix}$\n",
    "\n",
    "Transform the following point in the wind frame to the inertial frame\n",
    "\n",
    "$p_6^w = \\begin{bmatrix} 1 \\\\ 2 \\\\ 3\\end{bmatrix}$\n",
    "\n",
    "Display the results in the exported pdf."
   ]
  },
  {
   "cell_type": "code",
   "execution_count": 3,
   "metadata": {},
   "outputs": [
    {
     "name": "stdout",
     "output_type": "stream",
     "text": [
      "p_3^b = \n"
     ]
    },
    {
     "data": {
      "text/plain": [
       "array([[-1.77312124],\n",
       "       [ 1.41812418],\n",
       "       [ 5.55382435]])"
      ]
     },
     "metadata": {},
     "output_type": "display_data"
    },
    {
     "name": "stdout",
     "output_type": "stream",
     "text": [
      "p_4^b = \n"
     ]
    },
    {
     "data": {
      "text/plain": [
       "array([[ 0.16896899],\n",
       "       [-0.32143576],\n",
       "       [ 4.45736789]])"
      ]
     },
     "metadata": {},
     "output_type": "display_data"
    },
    {
     "name": "stdout",
     "output_type": "stream",
     "text": [
      "p_5^i\n"
     ]
    },
    {
     "data": {
      "text/plain": [
       "array([[ 1.54090053],\n",
       "       [ 4.2317526 ],\n",
       "       [-0.04589997]])"
      ]
     },
     "metadata": {},
     "output_type": "display_data"
    },
    {
     "name": "stdout",
     "output_type": "stream",
     "text": [
      "p_6^i\n"
     ]
    },
    {
     "data": {
      "text/plain": [
       "array([[1.06667346],\n",
       "       [3.91266605],\n",
       "       [0.21516146]])"
      ]
     },
     "metadata": {},
     "output_type": "display_data"
    }
   ],
   "source": [
    "from mav_sim.chap2.transforms import trans_i_to_b, trans_b_to_i\n",
    "\n",
    "# Create the pose of the aircraft\n",
    "class Pose:\n",
    "    def __init__(self) -> None:\n",
    "        self.north: float     = 1.      # north position\n",
    "        self.east: float      = 2.      # east position\n",
    "        self.altitude: float  = 3.      # altitude\n",
    "        self.phi: float       = phi     # roll angle\n",
    "        self.theta: float     = theta   # pitch angle\n",
    "        self.psi: float       = psi     # yaw angle\n",
    "pose = Pose()\n",
    "\n",
    "# Initialize the points\n",
    "p_3_i = np.array([[1],[2],[3]])\n",
    "p_4_i = np.array([[3],[2],[1]])\n",
    "p_5_b = np.array([[1],[2],[3]])\n",
    "p_6_w = np.array([[1],[2],[3]])\n",
    "\n",
    "# Calculate p_3^b\n",
    "p_3_b = trans_i_to_b(pose, p_3_i)\n",
    "print(\"p_3^b = \")\n",
    "display(p_3_b)\n",
    "\n",
    "# Calculate p_4_b\n",
    "p_4_b = trans_i_to_b(pose, p_4_i)\n",
    "print(\"p_4^b = \")\n",
    "display(p_4_b)\n",
    "\n",
    "# Calcualte p_5^i\n",
    "p_5_i = trans_b_to_i(pose, p_5_b)\n",
    "print(\"p_5^i\")\n",
    "display(p_5_i)\n",
    "\n",
    "# Calculate p_6^b\n",
    "R_s_to_b = R_b_to_s.T\n",
    "R_w_to_s = R_s_to_w.T\n",
    "p_6_b = R_s_to_b @ R_w_to_s @ p_6_w\n",
    "\n",
    "# Calculate p_6^i\n",
    "p_6_i = trans_b_to_i(pose, p_6_b)\n",
    "print(\"p_6^i\")\n",
    "display(p_6_i)\n"
   ]
  },
  {
   "cell_type": "markdown",
   "metadata": {},
   "source": [
    "## Simple code checking\n",
    "The following code does not need to change. It should just be used as a sanity check so that you know the code is implemented properly. The output should not have any lines reading `Failed test!`"
   ]
  },
  {
   "cell_type": "code",
   "execution_count": 4,
   "metadata": {},
   "outputs": [
    {
     "name": "stdout",
     "output_type": "stream",
     "text": [
      "Starting rot_x test\n",
      "\n",
      "Calculated output:\n",
      "[[ 1.0000000e+00  0.0000000e+00  0.0000000e+00]\n",
      " [ 0.0000000e+00 -1.0000000e+00  1.2246468e-16]\n",
      " [ 0.0000000e+00 -1.2246468e-16 -1.0000000e+00]]\n",
      "Expected output:\n",
      "[[ 1  0  0]\n",
      " [ 0 -1  0]\n",
      " [ 0  0 -1]]\n",
      "Passed test\n",
      "Calculated output:\n",
      "[[ 1.          0.          0.        ]\n",
      " [ 0.          0.0707372   0.99749499]\n",
      " [ 0.         -0.99749499  0.0707372 ]]\n",
      "Expected output:\n",
      "[[ 1.          0.          0.        ]\n",
      " [ 0.          0.0707372   0.99749499]\n",
      " [ 0.         -0.99749499  0.0707372 ]]\n",
      "Passed test\n",
      "End of test\n",
      "\n",
      "Starting rot_y test\n",
      "\n",
      "Calculated output:\n",
      "[[-1.0000000e+00  0.0000000e+00 -1.2246468e-16]\n",
      " [ 0.0000000e+00  1.0000000e+00  0.0000000e+00]\n",
      " [ 1.2246468e-16  0.0000000e+00 -1.0000000e+00]]\n",
      "Expected output:\n",
      "[[-1  0  0]\n",
      " [ 0  1  0]\n",
      " [ 0  0 -1]]\n",
      "Passed test\n",
      "Calculated output:\n",
      "[[ 0.0707372   0.         -0.99749499]\n",
      " [ 0.          1.          0.        ]\n",
      " [ 0.99749499  0.          0.0707372 ]]\n",
      "Expected output:\n",
      "[[ 0.0707372   0.         -0.99749499]\n",
      " [ 0.          1.          0.        ]\n",
      " [ 0.99749499  0.          0.0707372 ]]\n",
      "Passed test\n",
      "End of test\n",
      "\n",
      "Starting rot_z test\n",
      "\n",
      "Calculated output:\n",
      "[[-1.0000000e+00  1.2246468e-16  0.0000000e+00]\n",
      " [-1.2246468e-16 -1.0000000e+00  0.0000000e+00]\n",
      " [ 0.0000000e+00  0.0000000e+00  1.0000000e+00]]\n",
      "Expected output:\n",
      "[[-1  0  0]\n",
      " [ 0 -1  0]\n",
      " [ 0  0  1]]\n",
      "Passed test\n",
      "Calculated output:\n",
      "[[ 0.0707372   0.99749499  0.        ]\n",
      " [-0.99749499  0.0707372   0.        ]\n",
      " [ 0.          0.          1.        ]]\n",
      "Expected output:\n",
      "[[ 0.0707372   0.99749499  0.        ]\n",
      " [-0.99749499  0.0707372   0.        ]\n",
      " [ 0.          0.          1.        ]]\n",
      "Passed test\n",
      "End of test\n",
      "\n",
      "Starting rot_v_to_v1 test\n",
      "\n",
      "Calculated output:\n",
      "[[-0.70710678  0.70710678  0.        ]\n",
      " [-0.70710678 -0.70710678  0.        ]\n",
      " [ 0.          0.          1.        ]]\n",
      "Expected output:\n",
      "[[-0.70710678  0.70710678  0.        ]\n",
      " [-0.70710678 -0.70710678  0.        ]\n",
      " [ 0.          0.          1.        ]]\n",
      "Passed test\n",
      "Calculated output:\n",
      "[[-0.80114362  0.59847214  0.        ]\n",
      " [-0.59847214 -0.80114362  0.        ]\n",
      " [ 0.          0.          1.        ]]\n",
      "Expected output:\n",
      "[[-0.80114362  0.59847214  0.        ]\n",
      " [-0.59847214 -0.80114362  0.        ]\n",
      " [ 0.          0.          1.        ]]\n",
      "Passed test\n",
      "End of test\n",
      "\n",
      "Starting rot_v1_to_v2 test\n",
      "\n",
      "Calculated output:\n",
      "[[-0.70710678  0.         -0.70710678]\n",
      " [ 0.          1.          0.        ]\n",
      " [ 0.70710678  0.         -0.70710678]]\n",
      "Expected output:\n",
      "[[-0.70710678  0.         -0.70710678]\n",
      " [ 0.          1.          0.        ]\n",
      " [ 0.70710678  0.         -0.70710678]]\n",
      "Passed test\n",
      "Calculated output:\n",
      "[[-0.80114362  0.         -0.59847214]\n",
      " [ 0.          1.          0.        ]\n",
      " [ 0.59847214  0.         -0.80114362]]\n",
      "Expected output:\n",
      "[[-0.80114362  0.         -0.59847214]\n",
      " [ 0.          1.          0.        ]\n",
      " [ 0.59847214  0.         -0.80114362]]\n",
      "Passed test\n",
      "End of test\n",
      "\n",
      "Starting rot_v2_to_b test\n",
      "\n",
      "Calculated output:\n",
      "[[ 1.          0.          0.        ]\n",
      " [ 0.         -0.70710678  0.70710678]\n",
      " [ 0.         -0.70710678 -0.70710678]]\n",
      "Expected output:\n",
      "[[ 1.          0.          0.        ]\n",
      " [ 0.         -0.70710678  0.70710678]\n",
      " [ 0.         -0.70710678 -0.70710678]]\n",
      "Passed test\n",
      "Calculated output:\n",
      "[[ 1.          0.          0.        ]\n",
      " [ 0.         -0.80114362  0.59847214]\n",
      " [ 0.         -0.59847214 -0.80114362]]\n",
      "Expected output:\n",
      "[[ 1.          0.          0.        ]\n",
      " [ 0.         -0.80114362  0.59847214]\n",
      " [ 0.         -0.59847214 -0.80114362]]\n",
      "Passed test\n",
      "End of test\n",
      "\n",
      "Starting rot_b_to_s test\n",
      "\n",
      "Calculated output:\n",
      "[[-0.70710678  0.          0.70710678]\n",
      " [ 0.          1.          0.        ]\n",
      " [-0.70710678  0.         -0.70710678]]\n",
      "Expected output:\n",
      "[[-0.70710678  0.          0.70710678]\n",
      " [ 0.          1.          0.        ]\n",
      " [-0.70710678  0.         -0.70710678]]\n",
      "Passed test\n",
      "Calculated output:\n",
      "[[-0.80114362  0.          0.59847214]\n",
      " [ 0.          1.          0.        ]\n",
      " [-0.59847214  0.         -0.80114362]]\n",
      "Expected output:\n",
      "[[-0.80114362  0.          0.59847214]\n",
      " [ 0.          1.          0.        ]\n",
      " [-0.59847214  0.         -0.80114362]]\n",
      "Passed test\n",
      "End of test\n",
      "\n",
      "Starting rot_s_to_w test\n",
      "\n",
      "Calculated output:\n",
      "[[-0.70710678  0.70710678  0.        ]\n",
      " [-0.70710678 -0.70710678  0.        ]\n",
      " [ 0.          0.          1.        ]]\n",
      "Expected output:\n",
      "[[-0.70710678  0.70710678  0.        ]\n",
      " [-0.70710678 -0.70710678  0.        ]\n",
      " [ 0.          0.          1.        ]]\n",
      "Passed test\n",
      "Calculated output:\n",
      "[[-0.80114362  0.59847214  0.        ]\n",
      " [-0.59847214 -0.80114362  0.        ]\n",
      " [ 0.          0.          1.        ]]\n",
      "Expected output:\n",
      "[[-0.80114362  0.59847214  0.        ]\n",
      " [-0.59847214 -0.80114362  0.        ]\n",
      " [ 0.          0.          1.        ]]\n",
      "Passed test\n",
      "End of test\n",
      "\n",
      "Starting rot_v_to_b test\n",
      "\n",
      "Calculated output:\n",
      "[[ 0.5        -0.5         0.70710678]\n",
      " [-0.14644661 -0.85355339 -0.5       ]\n",
      " [ 0.85355339  0.14644661 -0.5       ]]\n",
      "Expected output:\n",
      "[[ 0.5        -0.5         0.70710678]\n",
      " [-0.14644661 -0.85355339 -0.5       ]\n",
      " [ 0.85355339  0.14644661 -0.5       ]]\n",
      "Passed test\n",
      "Calculated output:\n",
      "[[ 0.7502363  -0.56044324  0.35078323]\n",
      " [-0.53071095 -0.82688153 -0.18604522]\n",
      " [ 0.39432396 -0.04658662 -0.9177899 ]]\n",
      "Expected output:\n",
      "[[ 0.7502363  -0.56044324  0.35078323]\n",
      " [-0.53071095 -0.82688153 -0.18604522]\n",
      " [ 0.39432396 -0.04658662 -0.9177899 ]]\n",
      "Passed test\n",
      "End of test\n",
      "\n",
      "Starting rot_b_to_v test\n",
      "\n",
      "Calculated output:\n",
      "[[ 0.5        -0.14644661  0.85355339]\n",
      " [-0.5        -0.85355339  0.14644661]\n",
      " [ 0.70710678 -0.5        -0.5       ]]\n",
      "Expected output:\n",
      "[[ 0.5        -0.14644661  0.85355339]\n",
      " [-0.5        -0.85355339  0.14644661]\n",
      " [ 0.70710678 -0.5        -0.5       ]]\n",
      "Passed test\n",
      "Calculated output:\n",
      "[[ 0.7502363  -0.53071095  0.39432396]\n",
      " [-0.56044324 -0.82688153 -0.04658662]\n",
      " [ 0.35078323 -0.18604522 -0.9177899 ]]\n",
      "Expected output:\n",
      "[[ 0.7502363  -0.53071095  0.39432396]\n",
      " [-0.56044324 -0.82688153 -0.04658662]\n",
      " [ 0.35078323 -0.18604522 -0.9177899 ]]\n",
      "Passed test\n",
      "End of test\n",
      "\n",
      "Starting trans_i_to_v test\n",
      "\n",
      "Calculated output:\n",
      "[[-27.]\n",
      " [ 16.]\n",
      " [242.]]\n",
      "Expected output:\n",
      "[[-27]\n",
      " [ 16]\n",
      " [242]]\n",
      "Passed test\n",
      "End of test\n",
      "\n",
      "Starting trans_v_to_i test\n",
      "\n",
      "Calculated output:\n",
      "[[  57.]\n",
      " [ 180.]\n",
      " [-146.]]\n",
      "Expected output:\n",
      "[[  57]\n",
      " [ 180]\n",
      " [-146]]\n",
      "Passed test\n",
      "End of test\n",
      "\n",
      "Starting trans_i_to_b test\n",
      "\n",
      "Calculated output:\n",
      "[[ 176.61984105]\n",
      " [-138.6109127 ]\n",
      " [  95.6109127 ]]\n",
      "Expected output:\n",
      "[[ 176.61984105]\n",
      " [-138.6109127 ]\n",
      " [  95.6109127 ]]\n",
      "Passed test\n",
      "End of test\n",
      "\n",
      "Starting trans_b_to_i test\n",
      "\n",
      "Calculated output:\n",
      "[[  89.82233047]\n",
      " [ -16.17766953]\n",
      " [-208.39339828]]\n",
      "Expected output:\n",
      "[[  89.82233047]\n",
      " [ -16.17766953]\n",
      " [-208.39339828]]\n",
      "Passed test\n",
      "End of test\n",
      "\n"
     ]
    }
   ],
   "source": [
    "from mav_sim.unit_tests.ch2_transforms_tests import run_all_tests\n",
    "run_all_tests()"
   ]
  }
 ],
 "metadata": {
  "interpreter": {
   "hash": "30ca21fc09f4c56e5acbea1f4499c31c12f30cf571b9542568708a4c43724cf0"
  },
  "kernelspec": {
   "display_name": "Python 3.9.9 64-bit ('mav_venv': venv)",
   "language": "python",
   "name": "python3"
  },
  "language_info": {
   "codemirror_mode": {
    "name": "ipython",
    "version": 3
   },
   "file_extension": ".py",
   "mimetype": "text/x-python",
   "name": "python",
   "nbconvert_exporter": "python",
   "pygments_lexer": "ipython3",
   "version": "3.9.10"
  },
  "orig_nbformat": 4
 },
 "nbformat": 4,
 "nbformat_minor": 2
}
