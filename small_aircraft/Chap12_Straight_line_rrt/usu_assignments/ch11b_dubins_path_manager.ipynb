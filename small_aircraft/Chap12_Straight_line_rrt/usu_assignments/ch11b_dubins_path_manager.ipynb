{
 "cells": [
  {
   "cell_type": "markdown",
   "metadata": {},
   "source": [
    "## Problem 0: Path manager implementation\n",
    "Implement the following and ensure the unit tests pass.\n",
    "* `chap11/dubins_parameters.py`:\n",
    "  * `compute_parameters(...)`\n",
    "  * `calculate_rsr(...)`\n",
    "  * `calculate_rsl(...)`\n",
    "  * `calculate_lsr(...)`\n",
    "  * `calculate_lsl(...)`\n",
    "* `chap11/dubins_manager.py`:\n",
    "  * `dubins_manager(...)`\n",
    "  * `construct_dubins_circle_start(...)`\n",
    "  * `construct_dubins_line(...)`\n",
    "  * `construct_dubins_circle_end(...)`\n",
    "\n",
    "### Hints on implementation\n",
    "* `mod(...)` defined in `dubins_parameters.py` will prove helpful for calculating arc lengths\n",
    "\n",
    "\n",
    "### Note on the unit tests\n",
    "There will only be unit tests for `calculate_rsr(...)`, `calculate_rsl(...)`, `calculate_lsr(...)`, `calculate_lsl(...)`."
   ]
  },
  {
   "cell_type": "code",
   "execution_count": null,
   "metadata": {},
   "outputs": [],
   "source": [
    "import mav_sim.parameters.planner_parameters as PLAN\n",
    "import numpy as np\n",
    "from mav_sim.chap3.mav_dynamics import DynamicState\n",
    "from mav_sim.chap11.run_sim import run_sim\n",
    "from mav_sim.message_types.msg_sim_params import MsgSimParams\n",
    "from mav_sim.message_types.msg_waypoints import MsgWaypoints\n",
    "\n",
    "from mav_sim.chap11.waypoint_viewer import WaypointViewer\n",
    "from mav_sim.chap3.data_viewer import DataViewer\n",
    "from mav_sim.tools.display_figures import display_data_view, display_mav_view\n",
    "\n",
    "# The viewers need to be initialized once due to restart issues with qtgraph\n",
    "if 'waypoint_view' not in globals():\n",
    "    print(\"Initializing waypoint viewer\")\n",
    "    global waypoint_view\n",
    "    waypoint_view = WaypointViewer()\n",
    "if 'data_view' not in globals():\n",
    "    print(\"Initializing data_view\")\n",
    "    global data_view\n",
    "    data_view = DataViewer()\n",
    "\n",
    "# Initialize the simulation parameters\n",
    "sim_params_default = MsgSimParams(end_time=130., video_name=\"cha11b.avi\") # Sim ending in 10 seconds\n",
    "state = DynamicState()\n",
    "\n",
    "# Function for running simulation and displaying results\n",
    "def run_sim_and_display(waypoints: MsgWaypoints, sim_params: MsgSimParams = sim_params_default):\n",
    "    global waypoint_view\n",
    "    global data_view\n",
    "    data_view.reset(sim_params.start_time)\n",
    "    waypoint_view.plot_initialized = False\n",
    "    (waypoint_view, data_view) = run_sim(sim=sim_params, waypoints=waypoints, init_state=state, waypoint_view=waypoint_view, data_view=data_view) \n",
    "    display_data_view(data_view)\n",
    "    display_mav_view(waypoint_view)"
   ]
  },
  {
   "cell_type": "code",
   "execution_count": null,
   "metadata": {},
   "outputs": [],
   "source": [
    "# Waypoint definition\n",
    "waypoints = MsgWaypoints()\n",
    "waypoints.type = 'dubins'\n",
    "Va = PLAN.Va0\n",
    "waypoints.add(np.array([[0, 0, -100]]).T, Va, np.radians(0), np.inf, 0, 0)\n",
    "waypoints.add(np.array([[1000, 0, -100]]).T, Va, np.radians(45), np.inf, 0, 0)\n",
    "waypoints.add(np.array([[0, 1000, -100]]).T, Va, np.radians(45), np.inf, 0, 0)\n",
    "waypoints.add(np.array([[1000, 1000, -100]]).T, Va, np.radians(-135), np.inf, 0, 0)\n",
    "waypoints.flag_waypoints_changed = True\n",
    "waypoints.plot_updated = False\n",
    "\n",
    "# Run the simulation\n",
    "run_sim_and_display(waypoints=waypoints)"
   ]
  },
  {
   "cell_type": "markdown",
   "metadata": {},
   "source": [
    "## Problem 1: Path with different orientations\n",
    "Use the positions of the four waypoints from Problem 0 with orientation of waypoint zero set to zero and the orientation of the other waypoints set to -45 degrees. What do you notice when comparing the results of problems 0 and 1?\n",
    "\n",
    "(Answer here: Answers will vary, but should include mention of the fact that different waypoint orientations significantly affect the resulting path)"
   ]
  },
  {
   "cell_type": "code",
   "execution_count": null,
   "metadata": {},
   "outputs": [],
   "source": [
    "# Waypoint definition\n",
    "waypoints = MsgWaypoints()\n",
    "waypoints.type = 'dubins'\n",
    "Va = PLAN.Va0\n",
    "waypoints.add(np.array([[0, 0, -100]]).T, Va, np.radians(0), np.inf, 0, 0)\n",
    "waypoints.add(np.array([[1000, 0, -100]]).T, Va, np.radians(-45), np.inf, 0, 0)\n",
    "waypoints.add(np.array([[0, 1000, -100]]).T, Va, np.radians(-45), np.inf, 0, 0)\n",
    "waypoints.add(np.array([[1000, 1000, -100]]).T, Va, np.radians(-45), np.inf, 0, 0)\n",
    "waypoints.flag_waypoints_changed = True\n",
    "\n",
    "# Run the simulation\n",
    "run_sim_and_display(waypoints=waypoints)"
   ]
  },
  {
   "cell_type": "markdown",
   "metadata": {},
   "source": [
    "## Simple code checking\n",
    "The following code does not need to change. It should just be used as a sanity check so that you know the code is implemented properly. The output should not have any lines reading `Failed test!` If it does, then write an explanation of why those failed tests are okay. For example, you may describe that the function is testing a fringe case where the value changes at $\\pi/2$. Your function behaves well up to the boundary, but perhaps struggles with some points that are numerically on / close to the boundary.\n",
    "\n",
    "### Reasoning for results not being perfect on the unit tests\n",
    "(For each unit test that failed, write a brief explanation of why it is okay that it failed)"
   ]
  },
  {
   "cell_type": "code",
   "execution_count": null,
   "metadata": {},
   "outputs": [],
   "source": [
    "from mav_sim.unit_tests.ch11b_dubins_path_manager_test import run_tests\n",
    "run_tests()\n",
    "# If you want to run a specific test\n",
    "# run_tests(<the_test_number>)"
   ]
  }
 ],
 "metadata": {
  "interpreter": {
   "hash": "17e96feb5573b48bfebc5786815424774caf94a30ee417612aadfbecd8bb985a"
  },
  "kernelspec": {
   "display_name": "Python 3.10.1 ('mav_venv': venv)",
   "language": "python",
   "name": "python3"
  },
  "language_info": {
   "codemirror_mode": {
    "name": "ipython",
    "version": 3
   },
   "file_extension": ".py",
   "mimetype": "text/x-python",
   "name": "python",
   "nbconvert_exporter": "python",
   "pygments_lexer": "ipython3",
   "version": "3.10.4"
  },
  "orig_nbformat": 4
 },
 "nbformat": 4,
 "nbformat_minor": 2
}
