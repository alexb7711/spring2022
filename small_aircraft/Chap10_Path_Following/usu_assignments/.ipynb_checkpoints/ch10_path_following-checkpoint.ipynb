{
 "cells": [
  {
   "cell_type": "markdown",
   "metadata": {},
   "source": [
    "## Problem 0: Path follower implementation\n",
    "In `chap10.path_follower.py` implement the following two functions\n",
    "* `follow_straight_line(...)`\n",
    "* `follow_orbit(...)`\n",
    "\n",
    "A few notes on implementation:\n",
    "* Ensure to populate the entire autopilot command for each function\n",
    "* Use the `wrap(...)` function as appropriate\n",
    "* Only return a non-zero roll feed forward term for the circular orbit when $\\frac{d-\\rho}{\\rho} < 10$\n",
    "* Calculate the roll feed forward term assuming no wind"
   ]
  },
  {
   "cell_type": "code",
   "execution_count": null,
   "metadata": {},
   "outputs": [],
   "source": [
    "import numpy as np\n",
    "from mav_sim.chap3.mav_dynamics import DynamicState\n",
    "from mav_sim.chap10.run_sim import run_sim\n",
    "from mav_sim.message_types.msg_path import MsgPath\n",
    "from mav_sim.message_types.msg_state import MsgState\n",
    "from mav_sim.message_types.msg_sim_params import MsgSimParams\n",
    "from typing import Callable\n",
    "\n",
    "from mav_sim.chap10.path_viewer import PathViewer\n",
    "from mav_sim.chap3.data_viewer import DataViewer\n",
    "from mav_sim.tools.display_figures import display_data_view, display_mav_view\n",
    "\n",
    "# The viewers need to be initialized once due to restart issues with qtgraph\n",
    "if 'path_view' not in globals():\n",
    "    print(\"Initializing mav_view\")\n",
    "    global path_view\n",
    "    path_view = PathViewer()  # initialize the mav viewer\n",
    "if 'data_view' not in globals():\n",
    "    print(\"Initializing data_view\")\n",
    "    global data_view\n",
    "    data_view = DataViewer()  # initialize view of data plots\n",
    "\n",
    "# Initialize the simulation parameters\n",
    "sim_params_default = MsgSimParams(end_time=50., video_name=\"cha10.avi\") # Sim ending in 10 seconds\n",
    "state = DynamicState()\n",
    "\n",
    "# Function for running simulation and displaying results\n",
    "def run_sim_and_display(path_fnc: Callable[ [float, MsgState], MsgPath], sim_params: MsgSimParams = sim_params_default):\n",
    "    global path_view\n",
    "    global data_view\n",
    "    data_view.reset(sim_params.start_time)\n",
    "    (path_view, data_view) = run_sim(sim=sim_params, path_fnc=path_fnc, init_state=state, path_view=path_view, data_view=data_view) \n",
    "    display_data_view(data_view)\n",
    "    display_mav_view(path_view)"
   ]
  },
  {
   "cell_type": "code",
   "execution_count": null,
   "metadata": {},
   "outputs": [],
   "source": [
    "# path definition\n",
    "path = MsgPath()\n",
    "path.type = \"line\"\n",
    "path.line_origin = np.array([[0.0, 0.0, -100.0]]).T\n",
    "path.line_direction = np.array([[0.5, 1.0, 0.0]]).T\n",
    "path.line_direction = path.line_direction / np.linalg.norm(path.line_direction)\n",
    "\n",
    "# Constant path function definition\n",
    "def constant_path(time: float, state: MsgState) -> MsgPath:\n",
    "    return path\n",
    "\n",
    "# Follow path\n",
    "run_sim_and_display(path_fnc=constant_path)"
   ]
  },
  {
   "cell_type": "markdown",
   "metadata": {},
   "source": [
    "## Problem 1: Achievable Line Defined Between Points\n",
    "Control the aircraft to follow a straight line path at 20 m/s where the line is defined by the points $w_0^i = \\begin{bmatrix}0 \\\\ 2 \\\\ -100 \\end{bmatrix}$ and $w_1^i = \\begin{bmatrix}50 \\\\ 10 \\\\ -100 \\end{bmatrix}$\n",
    "\n",
    "### Describe the results\n",
    "(Place answer here)"
   ]
  },
  {
   "cell_type": "code",
   "execution_count": null,
   "metadata": {},
   "outputs": [],
   "source": [
    "# code here"
   ]
  },
  {
   "cell_type": "markdown",
   "metadata": {},
   "source": [
    "## Problem 2: Near-Achievable Line Defined Between Points\n",
    "Control the aircraft to follow a straight line path at 30 m/s where the line is defined by the points $w_0^i = \\begin{bmatrix}0 \\\\ 2 \\\\ -100 \\end{bmatrix}$ and $w_1^i = \\begin{bmatrix}100 \\\\ 200 \\\\ -150 \\end{bmatrix}$\n",
    "\n",
    "### Describe the results\n",
    "(Place answer here)"
   ]
  },
  {
   "cell_type": "code",
   "execution_count": null,
   "metadata": {},
   "outputs": [],
   "source": [
    "# Code here"
   ]
  },
  {
   "cell_type": "markdown",
   "metadata": {},
   "source": [
    "## Problem 3: Non-Achievable Line Defined Between Points\n",
    "Control the aircraft to follow a straight line path at 30 m/s where the line is defined by the points $w_0^i = \\begin{bmatrix}0 \\\\ 2 \\\\ -100 \\end{bmatrix}$ and $w_1^i = \\begin{bmatrix}100 \\\\ 200 \\\\ -200 \\end{bmatrix}$\n",
    "\n",
    "### Describe the results\n",
    "(Place answer here)\n",
    "\n",
    "### What do you notice about the z-component of the line direction definition and the ability to track the line?\n",
    "(Place answer here)"
   ]
  },
  {
   "cell_type": "code",
   "execution_count": null,
   "metadata": {},
   "outputs": [],
   "source": [
    "# Code here"
   ]
  },
  {
   "cell_type": "markdown",
   "metadata": {},
   "source": [
    "## Problem 4: Trackable Orbit definition\n",
    "Control the aircraft in a clockwise circular orbit around the point $w_0^i = \\begin{bmatrix}400 \\\\ 200 \\\\ -100 \\end{bmatrix}$ at a radius of 100 meters and airspeed of 25 m/s.\n",
    "\n",
    "### Describe the results\n",
    "(Place answer here)\n",
    "\n"
   ]
  },
  {
   "cell_type": "code",
   "execution_count": null,
   "metadata": {},
   "outputs": [],
   "source": [
    "# Code here"
   ]
  },
  {
   "cell_type": "markdown",
   "metadata": {},
   "source": [
    "## Problem 5: UnTrackable Orbit definition\n",
    "Control the aircraft in a counter-clockwise circular orbit around the point $w_0^i = \\begin{bmatrix}100 \\\\ -100 \\\\ -100 \\end{bmatrix}$ at a radius of 75 meters and airspeed of 25 m/s.\n",
    "\n",
    "### Describe the results\n",
    "(Place answer here)\n",
    "\n",
    "### What do you notice about the radius and the ability to track the orbit?\n",
    "(Place answer here)"
   ]
  },
  {
   "cell_type": "code",
   "execution_count": null,
   "metadata": {},
   "outputs": [],
   "source": [
    "# Code here"
   ]
  },
  {
   "cell_type": "markdown",
   "metadata": {},
   "source": [
    "## Problem 6: Switching control with no transition\n",
    "Control the aircraft at 30 m/s using straight-line paths to move between waypoints $w_0^i = \\begin{bmatrix}0 \\\\ 0 \\\\ -100 \\end{bmatrix}$, $w_1^i = \\begin{bmatrix}600 \\\\ 0 \\\\ -100 \\end{bmatrix}$, $w_2^i = \\begin{bmatrix}600 \\\\ 1 \\\\ -100 \\end{bmatrix}$. Switch from executing linesegment $\\overline{w_0 w_1}$ to $\\overline{w_1 w_2}$ when the aircraft's north position is greater than or equal to the north position of $w_1^i$.\n",
    "\n",
    "### Describe the quality of the path following\n",
    "(Place answer here)\n"
   ]
  },
  {
   "cell_type": "code",
   "execution_count": null,
   "metadata": {},
   "outputs": [],
   "source": [
    "# Code here"
   ]
  },
  {
   "cell_type": "markdown",
   "metadata": {},
   "source": [
    "## Problem 7: Switching control with arc transition\n",
    "Repeat problem 6, but instead of having a hard switch between $\\overline{w_0 w_1}$ and $\\overline{w_1 w_2}$, you will use a circular arc of radius 150 m to perform the switch. Create a circular orbit such that it has exactly one tangent point on $\\overline{w_0 w_1}$ and one on $\\overline{w_1 w_2}$. Switch to the arc when the aircraft north state has reached the value of the tangent point. Switch from executing the arc to executing $\\overline{w_1 w_2}$ when the aircraft east state has reached the value of the tangent point.\n",
    "\n",
    "### Describe the quality of the path following\n",
    "(Place answer here)"
   ]
  },
  {
   "cell_type": "code",
   "execution_count": null,
   "metadata": {},
   "outputs": [],
   "source": [
    "# Code here"
   ]
  },
  {
   "cell_type": "markdown",
   "metadata": {},
   "source": [
    "## Simple code checking\n",
    "The following code does not need to change. It should just be used as a sanity check so that you know the code is implemented properly. The output should not have any lines reading `Failed test!`"
   ]
  },
  {
   "cell_type": "code",
   "execution_count": null,
   "metadata": {},
   "outputs": [],
   "source": [
    "from mav_sim.unit_tests.ch10_path_follower_test import run_all_tests\n",
    "run_all_tests()"
   ]
  }
 ],
 "metadata": {
  "interpreter": {
   "hash": "ed425f2c20432ac4fa8be597b4b77b8d3b1ffe4dfa23b1c0ea7de82059b6e458"
  },
  "kernelspec": {
   "display_name": "Python 3 (ipykernel)",
   "language": "python",
   "name": "python3"
  },
  "language_info": {
   "codemirror_mode": {
    "name": "ipython",
    "version": 3
   },
   "file_extension": ".py",
   "mimetype": "text/x-python",
   "name": "python",
   "nbconvert_exporter": "python",
   "pygments_lexer": "ipython3",
   "version": "3.10.2"
  }
 },
 "nbformat": 4,
 "nbformat_minor": 2
}
