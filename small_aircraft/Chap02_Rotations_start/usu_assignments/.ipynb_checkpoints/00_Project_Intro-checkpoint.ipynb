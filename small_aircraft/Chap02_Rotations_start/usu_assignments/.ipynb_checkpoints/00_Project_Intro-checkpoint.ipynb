{
 "cells": [
  {
   "cell_type": "markdown",
   "metadata": {},
   "source": [
    "## Problem 1: Forming Numpy Matrices\n",
    "We will work quite heavily with numpy matrices. A numpy matrix can be created in a host of ways, but the most straight forward is to use the `np.array` initializer. In this case, each row of the matrix is initialized using an array and the matrix is an array of arrays. For example, the following matrix\n",
    "$ex_{mat} = \\begin{bmatrix}1 & 2 & 3 \\\\ 4 & 5 & 6  \\end{bmatrix}$ can be initialized as\n",
    "```\n",
    "ex_mat = np.array([ [1., 2., 3.], \n",
    "                    [4., 5., 6.]])\n",
    "```\n",
    "where the array `[1., 2., 3.]` is the first row and the array `[4., 5., 6.]` is the second.\n",
    "\n",
    "Create two additional matrices. Let $I$ be a $3 \\times 3$ identity matrix and $R$ be a $3 \\times 3$ rotation matrix about the $z$ axis with a rotation of $\\theta = \\frac{\\pi}{4}$."
   ]
  },
  {
   "cell_type": "code",
   "execution_count": 3,
   "metadata": {},
   "outputs": [
    {
     "name": "stdout",
     "output_type": "stream",
     "text": [
      "ex_mat = \n"
     ]
    },
    {
     "data": {
      "text/plain": [
       "array([[1., 2., 3.],\n",
       "       [4., 5., 6.]])"
      ]
     },
     "metadata": {},
     "output_type": "display_data"
    },
    {
     "name": "stdout",
     "output_type": "stream",
     "text": [
      "I = \n"
     ]
    },
    {
     "data": {
      "text/plain": [
       "array([[1, 0, 0],\n",
       "       [0, 1, 0],\n",
       "       [0, 0, 1]])"
      ]
     },
     "metadata": {},
     "output_type": "display_data"
    },
    {
     "name": "stdout",
     "output_type": "stream",
     "text": [
      "R = \n"
     ]
    },
    {
     "data": {
      "text/plain": [
       "array([[ 0.70710678,  0.70710678,  0.        ],\n",
       "       [-0.70710678,  0.70710678,  0.        ],\n",
       "       [ 0.        ,  0.        ,  1.        ]])"
      ]
     },
     "metadata": {},
     "output_type": "display_data"
    }
   ],
   "source": [
    "import numpy as np # Imports the numpy library and creates the alias np\n",
    "from IPython.display import display # Used to display variables nicely in Jupyter\n",
    "\n",
    "# Print the example matrix\n",
    "ex_mat = np.array([ [1., 2., 3.], \n",
    "                    [4., 5., 6.]])\n",
    "print(\"ex_mat = \")\n",
    "display(ex_mat)\n",
    "\n",
    "# Create an identity matrix\n",
    "I = np.array([[1, 0, 0],[0,1,0],[0,0,1]])\n",
    "print(\"I = \")\n",
    "display(I)\n",
    "\n",
    "# Create a 3x3 rotation matrix about the z axis\n",
    "th = np.pi/4 # Angle of rotation\n",
    "c = np.cos(th)\n",
    "s = np.sin(th)\n",
    "R = np.array([[c,s,0],[-s,c,0],[0,0,1]])\n",
    "print(\"R = \")\n",
    "display(R)\n"
   ]
  },
  {
   "cell_type": "markdown",
   "metadata": {},
   "source": [
    "## Problem 2: Multiplication\n",
    "There are two multiplication operators that you can utilize. The first is the asterisk, `*`, and the second is the ampersand, `@`. Be careful as they produce several different results. Perform each multiplication, display the result, and answer the following question.\n",
    "\n",
    "### Question: What is the difference between `*` and `@`?\n",
    "Answer: **Need to answer**"
   ]
  },
  {
   "cell_type": "code",
   "execution_count": 4,
   "metadata": {},
   "outputs": [
    {
     "name": "stdout",
     "output_type": "stream",
     "text": [
      "Result of asterisk multiplication:\n"
     ]
    },
    {
     "data": {
      "text/plain": [
       "array([[ 0.70710678,  0.        ,  0.        ],\n",
       "       [-0.        ,  0.70710678,  0.        ],\n",
       "       [ 0.        ,  0.        ,  1.        ]])"
      ]
     },
     "metadata": {},
     "output_type": "display_data"
    },
    {
     "name": "stdout",
     "output_type": "stream",
     "text": [
      "Result of ampersand multiplication:\n"
     ]
    },
    {
     "data": {
      "text/plain": [
       "array([[ 0.70710678,  0.70710678,  0.        ],\n",
       "       [-0.70710678,  0.70710678,  0.        ],\n",
       "       [ 0.        ,  0.        ,  1.        ]])"
      ]
     },
     "metadata": {},
     "output_type": "display_data"
    }
   ],
   "source": [
    "# Multiply I and R together with the asterisk and display the results\n",
    "asterisk_multiply = I*R\n",
    "print('Result of asterisk multiplication:')\n",
    "display(asterisk_multiply)\n",
    "\n",
    "# Multiply I and R together with the ampersand and display the results\n",
    "ampersand_multiply = I@R\n",
    "print('Result of ampersand multiplication:')\n",
    "display(ampersand_multiply)"
   ]
  },
  {
   "cell_type": "markdown",
   "metadata": {},
   "source": [
    "## Problem 3: Extracting values\n",
    "Any numpy ndarray with more than a single row is treated as a matrix. Also note that numpy is zero indexed. The matrices are indexed with a double indexing, i.e., *ex_mat[0,0]* will return the top left element.\n",
    "\n",
    "Extract and display the top row, middle column element from *ex_mat*"
   ]
  },
  {
   "cell_type": "code",
   "execution_count": 6,
   "metadata": {},
   "outputs": [
    {
     "name": "stdout",
     "output_type": "stream",
     "text": [
      "Element from ex_mat in top row and middle column:\n"
     ]
    },
    {
     "data": {
      "text/plain": [
       "2.0"
      ]
     },
     "metadata": {},
     "output_type": "display_data"
    }
   ],
   "source": [
    "# Get the element from the top row and middle column\n",
    "val = ex_mat[0][1]\n",
    "print('Element from ex_mat in top row and middle column:')\n",
    "display(val)"
   ]
  },
  {
   "cell_type": "code",
   "execution_count": null,
   "metadata": {},
   "outputs": [],
   "source": []
  }
 ],
 "metadata": {
  "interpreter": {
   "hash": "30ca21fc09f4c56e5acbea1f4499c31c12f30cf571b9542568708a4c43724cf0"
  },
  "kernelspec": {
   "display_name": "Python 3 (ipykernel)",
   "language": "python",
   "name": "python3"
  },
  "language_info": {
   "codemirror_mode": {
    "name": "ipython",
    "version": 3
   },
   "file_extension": ".py",
   "mimetype": "text/x-python",
   "name": "python",
   "nbconvert_exporter": "python",
   "pygments_lexer": "ipython3",
   "version": "3.10.1"
  }
 },
 "nbformat": 4,
 "nbformat_minor": 2
}
