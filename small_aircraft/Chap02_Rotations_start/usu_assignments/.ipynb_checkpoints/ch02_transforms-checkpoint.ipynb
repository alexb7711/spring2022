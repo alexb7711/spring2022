{
 "cells": [
  {
   "cell_type": "markdown",
   "metadata": {},
   "source": [
    "## Problem 1: Basic concentric frame transforms\n",
    "Most of the frames have the same origin. The code in chap2/transforms.py calculates the rotation matrices used to transform between these frames. Correctly implement the following functions:\n",
    "* rot_x: calculate elementary rotation matrix about x-axis\n",
    "* rot_y: calculate elementary rotation matrix about y-axis\n",
    "* rot_z: calculate elementary rotation matrix about z-axis\n",
    "* rot_v_to_v1: calculates the rotation from frame v to v1\n",
    "* rot_v1_to_v2: calculates the rotation from frame v1 to v2\n",
    "* rot_v2_to_b: calculates the rotation from v2 to body frame\n",
    "* rot_b_to_s: calculates the rotation from body to stability frame\n",
    "* rot_s_to_w: calculates the rotation from stability to wind frame\n",
    "\n",
    "*Hint:* You should only compute the cosine and sine of the angle in *rot_x*, *rot_y*, and *rot_z*. All the remaining functions should call those functions (i.e., one line change from what they currently are)\n",
    "\n",
    "Use these function to compute the following. Assume that $\\psi = \\frac{\\pi}{4}$, $\\theta = 0.3$, $\\phi = 0.25$, $\\alpha = 0.1$, and $\\beta = 0.15$. Display the results in the exported pdf.\n",
    "* Compute $p_1^{v1}$ given $p_1^v = \\begin{bmatrix} 1 \\\\ 2 \\\\ 3 \\end{bmatrix}$\n",
    "* Compute $p_1^{w}$\n",
    "* Compute $p_2^{s}$ given $p_2^{v2} = \\begin{bmatrix} 4 \\\\ 5 \\\\ 6 \\end{bmatrix}$\n",
    "* Compute $p_2^v$\n",
    "\n"
   ]
  },
  {
   "cell_type": "code",
   "execution_count": 6,
   "metadata": {},
   "outputs": [
    {
     "name": "stdout",
     "output_type": "stream",
     "text": [
      "p_1^v1 = \n"
     ]
    },
    {
     "data": {
      "text/plain": [
       "'Need to implement'"
      ]
     },
     "metadata": {},
     "output_type": "display_data"
    },
    {
     "name": "stdout",
     "output_type": "stream",
     "text": [
      "p_1^w = \n"
     ]
    },
    {
     "data": {
      "text/plain": [
       "'Need to implement'"
      ]
     },
     "metadata": {},
     "output_type": "display_data"
    },
    {
     "name": "stdout",
     "output_type": "stream",
     "text": [
      "p_2^s = \n"
     ]
    },
    {
     "data": {
      "text/plain": [
       "'Need to implement'"
      ]
     },
     "metadata": {},
     "output_type": "display_data"
    },
    {
     "name": "stdout",
     "output_type": "stream",
     "text": [
      "p_2^v = \n"
     ]
    },
    {
     "data": {
      "text/plain": [
       "'Need to implement'"
      ]
     },
     "metadata": {},
     "output_type": "display_data"
    }
   ],
   "source": [
    "import numpy as np # Imports the numpy library and creates the alias np\n",
    "from IPython.display import display # Used to display variables nicely in Jupyter\n",
    "from mav_sim.chap2.transforms import rot_v_to_v1, rot_v1_to_v2, rot_v2_to_b, rot_b_to_s, rot_s_to_w\n",
    "\n",
    "# Calculate the required rotation matrices\n",
    "psi = np.pi/4\n",
    "theta = 0.3\n",
    "phi = 0.25\n",
    "alpha = 0.1\n",
    "beta = 0.15\n",
    "\n",
    "# Initialize p1 and p2\n",
    "p_1_v = np.array([[1],[2],[3]])\n",
    "p_2_v2 = np.array([[4],[5],[6]])\n",
    "\n",
    "# Calculate p_1^v1\n",
    "p_1_v1 = \"Need to implement\"\n",
    "print('p_1^v1 = ')\n",
    "display(p_1_v1)\n",
    "\n",
    "# Calculate p_1^w\n",
    "p_1_w = \"Need to implement\"\n",
    "print('p_1^w = ')\n",
    "display(p_1_w)\n",
    "\n",
    "# Calculate p_2^s\n",
    "p_2_s = \"Need to implement\"\n",
    "print('p_2^s = ')\n",
    "display(p_2_s)\n",
    "\n",
    "# Calculate p_2^v\n",
    "p_2_v = \"Need to implement\"\n",
    "print('p_2^v = ')\n",
    "display(p_2_v)\n"
   ]
  },
  {
   "cell_type": "markdown",
   "metadata": {},
   "source": [
    "\n",
    "\n",
    "\n",
    "## Problem 2: Compound rotation matrices\n",
    "The transform from the vehicle frame to the body frame can be written as a compound of three rotation matrices (and so can the inverse transform). However, these matrices are used so often that it is nice to avoid multiplying these three matrices each time the transform is needed. \n",
    "\n",
    "Implement the following functions:\n",
    "\n",
    "* rot_v_to_b: calculates the rotation from vehicle to body frame\n",
    "* rot_b_to_v: calculates the rotation from body frame to vehicle frame\n",
    "\n",
    "*Hint:* You really only need to implement one of them and then use a transpose for the other\n",
    "\n",
    "Using the same values as above, show that your implementation produces the same rotation matrices as three elementary matrices multiplied together. Display the difference in the exported pdf.\n"
   ]
  },
  {
   "cell_type": "code",
   "execution_count": 7,
   "metadata": {},
   "outputs": [
    {
     "name": "stdout",
     "output_type": "stream",
     "text": [
      "R_v_to_b_diff\n"
     ]
    },
    {
     "data": {
      "text/plain": [
       "'Need to implement'"
      ]
     },
     "metadata": {},
     "output_type": "display_data"
    },
    {
     "name": "stdout",
     "output_type": "stream",
     "text": [
      "R_b_to_v_diff\n"
     ]
    },
    {
     "data": {
      "text/plain": [
       "'Need to implement'"
      ]
     },
     "metadata": {},
     "output_type": "display_data"
    }
   ],
   "source": [
    "from mav_sim.chap2.transforms import rot_v_to_b, rot_b_to_v\n",
    "\n",
    "# Calculate the rotation matrices as compound rotation matrices (i.e., matrix multiplication)\n",
    "\n",
    "\n",
    "# Calculate the rotation matrices using the functions\n",
    "\n",
    "\n",
    "# Calculate and display the difference\n",
    "R_v_to_b_diff = \"Need to implement\"\n",
    "print(\"R_v_to_b_diff\")\n",
    "display(R_v_to_b_diff)\n",
    "\n",
    "R_b_to_v_diff = \"Need to implement\"\n",
    "print(\"R_b_to_v_diff\")\n",
    "display(R_b_to_v_diff)\n"
   ]
  },
  {
   "cell_type": "markdown",
   "metadata": {},
   "source": [
    "## Problem 3: Tranform to vehicle frame\n",
    "Converting to and from the inertial frame requires translation. Implement the following functions:\n",
    "* trans_i_to_v: transforms a point from inertial frame to the vehicle frame\n",
    "* trans_v_to_i: transforms a point from vehicle frame to the inertial frame\n",
    "* trans_i_to_b: transforms a point from inertial frame to the body frame\n",
    "* trans_b_to_i: transforms a point from the body frame to the inertial frame\n",
    "\n",
    "Note that the transform between inertial and the vehicle frame is purely translational. The transform between the vehicle and body frame is purely rotational. Thus, you can use the functions already implemented to make the *trans_i_to_b* and *trans_b_to_i* functions quite simple.\n",
    "\n",
    "Given that the UAV is in the position $p_n = 1$, $p_e = 2$, and $p_d = 3$ with the angles defined as before, transform the following points to the body frame using the implemented functions:\n",
    "\n",
    "$p_3^i = \\begin{bmatrix} 1 \\\\ 2 \\\\ 3\\end{bmatrix}$\n",
    "\n",
    "$p_4^i = \\begin{bmatrix} 3 \\\\ 2 \\\\ 1\\end{bmatrix}$\n",
    "\n",
    "Transform the following point in the body frame to the inertial frame\n",
    "\n",
    "$p_5^b = \\begin{bmatrix} 1 \\\\ 2 \\\\ 3\\end{bmatrix}$\n",
    "\n",
    "Transform the following point in the wind frame to the inertial frame\n",
    "\n",
    "$p_6^w = \\begin{bmatrix} 1 \\\\ 2 \\\\ 3\\end{bmatrix}$\n",
    "\n",
    "Display the results in the exported pdf."
   ]
  },
  {
   "cell_type": "code",
   "execution_count": 8,
   "metadata": {},
   "outputs": [
    {
     "name": "stdout",
     "output_type": "stream",
     "text": [
      "p_3^b = \n"
     ]
    },
    {
     "data": {
      "text/plain": [
       "'Need to implement'"
      ]
     },
     "metadata": {},
     "output_type": "display_data"
    },
    {
     "name": "stdout",
     "output_type": "stream",
     "text": [
      "p_4^b = \n"
     ]
    },
    {
     "data": {
      "text/plain": [
       "'Need to implement'"
      ]
     },
     "metadata": {},
     "output_type": "display_data"
    },
    {
     "name": "stdout",
     "output_type": "stream",
     "text": [
      "p_5^i\n"
     ]
    },
    {
     "data": {
      "text/plain": [
       "'Need to implement'"
      ]
     },
     "metadata": {},
     "output_type": "display_data"
    },
    {
     "name": "stdout",
     "output_type": "stream",
     "text": [
      "p_6^i\n"
     ]
    },
    {
     "data": {
      "text/plain": [
       "'Need to implement'"
      ]
     },
     "metadata": {},
     "output_type": "display_data"
    }
   ],
   "source": [
    "from mav_sim.chap2.transforms import trans_i_to_b, trans_b_to_i\n",
    "\n",
    "# Create the pose of the aircraft\n",
    "class Pose:\n",
    "    def __init__(self) -> None:\n",
    "        self.north: float     = 1.      # north position\n",
    "        self.east: float      = 2.      # east position\n",
    "        self.altitude: float  = 3.      # altitude\n",
    "        self.phi: float       = phi     # roll angle\n",
    "        self.theta: float     = theta   # pitch angle\n",
    "        self.psi: float       = psi     # yaw angle\n",
    "pose = Pose()\n",
    "\n",
    "# Initialize the points\n",
    "p_3_i = np.array([[1],[2],[3]])\n",
    "p_4_i = np.array([[3],[2],[1]])\n",
    "p_5_b = np.array([[1],[2],[3]])\n",
    "p_6_w = np.array([[1],[2],[3]])\n",
    "\n",
    "# Calculate p_3^b\n",
    "p_3_b = \"Need to implement\"\n",
    "print(\"p_3^b = \")\n",
    "display(p_3_b)\n",
    "\n",
    "# Calculate p_4_b\n",
    "p_4_b = \"Need to implement\"\n",
    "print(\"p_4^b = \")\n",
    "display(p_4_b)\n",
    "\n",
    "# Calcualte p_5^i\n",
    "p_5_i = \"Need to implement\"\n",
    "print(\"p_5^i\")\n",
    "display(p_5_i)\n",
    "\n",
    "# Calculate p_6^i\n",
    "p_6_i = \"Need to implement\"\n",
    "print(\"p_6^i\")\n",
    "display(p_6_i)\n"
   ]
  }
 ],
 "metadata": {
  "interpreter": {
   "hash": "30ca21fc09f4c56e5acbea1f4499c31c12f30cf571b9542568708a4c43724cf0"
  },
  "kernelspec": {
   "display_name": "Python 3 (ipykernel)",
   "language": "python",
   "name": "python3"
  },
  "language_info": {
   "codemirror_mode": {
    "name": "ipython",
    "version": 3
   },
   "file_extension": ".py",
   "mimetype": "text/x-python",
   "name": "python",
   "nbconvert_exporter": "python",
   "pygments_lexer": "ipython3",
   "version": "3.10.1"
  }
 },
 "nbformat": 4,
 "nbformat_minor": 2
}
